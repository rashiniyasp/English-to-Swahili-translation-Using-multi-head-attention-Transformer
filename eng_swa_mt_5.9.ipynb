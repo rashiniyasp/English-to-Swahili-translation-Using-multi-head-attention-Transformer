{
 "cells": [
  {
   "cell_type": "code",
   "execution_count": 1,
   "metadata": {
    "execution": {
     "iopub.execute_input": "2025-02-23T22:19:52.106174Z",
     "iopub.status.busy": "2025-02-23T22:19:52.105227Z",
     "iopub.status.idle": "2025-02-23T22:20:03.804873Z",
     "shell.execute_reply": "2025-02-23T22:20:03.804146Z",
     "shell.execute_reply.started": "2025-02-23T22:19:52.106107Z"
    },
    "papermill": {
     "duration": 12.578941,
     "end_time": "2024-03-24T02:42:51.721672",
     "exception": false,
     "start_time": "2024-03-24T02:42:39.142731",
     "status": "completed"
    },
    "tags": []
   },
   "outputs": [],
   "source": [
    "import os\n",
    "import pandas as pd\n",
    "import random\n",
    "import matplotlib.pyplot as plt\n",
    "from tensorflow import keras\n",
    "\n",
    "import tensorflow as tf\n",
    "import string\n",
    "import re\n",
    "import numpy as np"
   ]
  },
  {
   "cell_type": "code",
   "execution_count": 2,
   "metadata": {
    "execution": {
     "iopub.execute_input": "2025-02-23T22:20:03.806762Z",
     "iopub.status.busy": "2025-02-23T22:20:03.806279Z",
     "iopub.status.idle": "2025-02-23T22:20:04.121672Z",
     "shell.execute_reply": "2025-02-23T22:20:04.119952Z",
     "shell.execute_reply.started": "2025-02-23T22:20:03.806732Z"
    },
    "papermill": {
     "duration": 0.257149,
     "end_time": "2024-03-24T02:42:51.990866",
     "exception": false,
     "start_time": "2024-03-24T02:42:51.733717",
     "status": "completed"
    },
    "tags": []
   },
   "outputs": [
    {
     "name": "stdout",
     "output_type": "stream",
     "text": [
      "Tensor Flow Version: 2.16.1\n",
      "\n",
      "GPU is AVAILABLE\n"
     ]
    }
   ],
   "source": [
    "print(f\"Tensor Flow Version: {tf.__version__}\")\n",
    "print()\n",
    "gpu = len(tf.config.list_physical_devices('GPU'))>0\n",
    "print(\"GPU is\", \"AVAILABLE\" if gpu else \"NOT AVAILABLE\")"
   ]
  },
  {
   "cell_type": "code",
   "execution_count": 3,
   "metadata": {
    "execution": {
     "iopub.execute_input": "2025-02-23T22:20:04.123229Z",
     "iopub.status.busy": "2025-02-23T22:20:04.122836Z",
     "iopub.status.idle": "2025-02-23T22:20:04.728510Z",
     "shell.execute_reply": "2025-02-23T22:20:04.727778Z",
     "shell.execute_reply.started": "2025-02-23T22:20:04.123181Z"
    },
    "papermill": {
     "duration": 0.587422,
     "end_time": "2024-03-24T02:42:52.638078",
     "exception": false,
     "start_time": "2024-03-24T02:42:52.050656",
     "status": "completed"
    },
    "tags": []
   },
   "outputs": [],
   "source": [
    "# Define the correct file path\n",
    "file_path = \"/kaggle/input/nlp-cleaned/english_swahili_sentence_pairs_cleaned.csv\"\n",
    "\n",
    "# Read the data\n",
    "df = pd.read_csv(file_path)\n"
   ]
  },
  {
   "cell_type": "code",
   "execution_count": 4,
   "metadata": {
    "execution": {
     "iopub.execute_input": "2025-02-23T22:20:04.730395Z",
     "iopub.status.busy": "2025-02-23T22:20:04.730116Z",
     "iopub.status.idle": "2025-02-23T22:20:04.746446Z",
     "shell.execute_reply": "2025-02-23T22:20:04.745588Z",
     "shell.execute_reply.started": "2025-02-23T22:20:04.730367Z"
    }
   },
   "outputs": [
    {
     "data": {
      "text/html": [
       "<div>\n",
       "<style scoped>\n",
       "    .dataframe tbody tr th:only-of-type {\n",
       "        vertical-align: middle;\n",
       "    }\n",
       "\n",
       "    .dataframe tbody tr th {\n",
       "        vertical-align: top;\n",
       "    }\n",
       "\n",
       "    .dataframe thead th {\n",
       "        text-align: right;\n",
       "    }\n",
       "</style>\n",
       "<table border=\"1\" class=\"dataframe\">\n",
       "  <thead>\n",
       "    <tr style=\"text-align: right;\">\n",
       "      <th></th>\n",
       "      <th>English sentence</th>\n",
       "      <th>Swahili Translation</th>\n",
       "    </tr>\n",
       "  </thead>\n",
       "  <tbody>\n",
       "    <tr>\n",
       "      <th>0</th>\n",
       "      <td>I am.</td>\n",
       "      <td>Mimi ni.</td>\n",
       "    </tr>\n",
       "    <tr>\n",
       "      <th>1</th>\n",
       "      <td>Him.</td>\n",
       "      <td>Yeye.</td>\n",
       "    </tr>\n",
       "    <tr>\n",
       "      <th>2</th>\n",
       "      <td>Her.</td>\n",
       "      <td>Yeye.</td>\n",
       "    </tr>\n",
       "    <tr>\n",
       "      <th>3</th>\n",
       "      <td>You.</td>\n",
       "      <td>Wewe.</td>\n",
       "    </tr>\n",
       "    <tr>\n",
       "      <th>4</th>\n",
       "      <td>We.</td>\n",
       "      <td>Sisi.</td>\n",
       "    </tr>\n",
       "    <tr>\n",
       "      <th>...</th>\n",
       "      <td>...</td>\n",
       "      <td>...</td>\n",
       "    </tr>\n",
       "    <tr>\n",
       "      <th>198953</th>\n",
       "      <td>The national army safeguards the country's bor...</td>\n",
       "      <td>Jeshi la kitaifa linalinda mpaka wa nchi hiyo ...</td>\n",
       "    </tr>\n",
       "    <tr>\n",
       "      <th>198954</th>\n",
       "      <td>I participated in last year's motor rally cham...</td>\n",
       "      <td>Nilishiriki katika mashindano ya rally ya moto...</td>\n",
       "    </tr>\n",
       "    <tr>\n",
       "      <th>198955</th>\n",
       "      <td>This court mainly deals with crimes committed ...</td>\n",
       "      <td>Korti hii inashughulikia uhalifu uliofanywa na...</td>\n",
       "    </tr>\n",
       "    <tr>\n",
       "      <th>198956</th>\n",
       "      <td>The company terminated their contract yesterday.</td>\n",
       "      <td>Kampuni hiyo ilisitisha mkataba wao jana.</td>\n",
       "    </tr>\n",
       "    <tr>\n",
       "      <th>198957</th>\n",
       "      <td>The ministry of health has posted five health ...</td>\n",
       "      <td>Wizara ya afya imeweka wafanyikazi watano wa a...</td>\n",
       "    </tr>\n",
       "  </tbody>\n",
       "</table>\n",
       "<p>198958 rows × 2 columns</p>\n",
       "</div>"
      ],
      "text/plain": [
       "                                         English sentence  \\\n",
       "0                                                   I am.   \n",
       "1                                                    Him.   \n",
       "2                                                    Her.   \n",
       "3                                                    You.   \n",
       "4                                                     We.   \n",
       "...                                                   ...   \n",
       "198953  The national army safeguards the country's bor...   \n",
       "198954  I participated in last year's motor rally cham...   \n",
       "198955  This court mainly deals with crimes committed ...   \n",
       "198956   The company terminated their contract yesterday.   \n",
       "198957  The ministry of health has posted five health ...   \n",
       "\n",
       "                                      Swahili Translation  \n",
       "0                                                Mimi ni.  \n",
       "1                                                   Yeye.  \n",
       "2                                                   Yeye.  \n",
       "3                                                   Wewe.  \n",
       "4                                                   Sisi.  \n",
       "...                                                   ...  \n",
       "198953  Jeshi la kitaifa linalinda mpaka wa nchi hiyo ...  \n",
       "198954  Nilishiriki katika mashindano ya rally ya moto...  \n",
       "198955  Korti hii inashughulikia uhalifu uliofanywa na...  \n",
       "198956          Kampuni hiyo ilisitisha mkataba wao jana.  \n",
       "198957  Wizara ya afya imeweka wafanyikazi watano wa a...  \n",
       "\n",
       "[198958 rows x 2 columns]"
      ]
     },
     "execution_count": 4,
     "metadata": {},
     "output_type": "execute_result"
    }
   ],
   "source": [
    "df"
   ]
  },
  {
   "cell_type": "code",
   "execution_count": 5,
   "metadata": {
    "execution": {
     "iopub.execute_input": "2025-02-23T22:20:04.747855Z",
     "iopub.status.busy": "2025-02-23T22:20:04.747613Z",
     "iopub.status.idle": "2025-02-23T22:20:04.838156Z",
     "shell.execute_reply": "2025-02-23T22:20:04.837247Z",
     "shell.execute_reply.started": "2025-02-23T22:20:04.747829Z"
    }
   },
   "outputs": [
    {
     "name": "stdout",
     "output_type": "stream",
     "text": [
      "                                           source  \\\n",
      "16219  This is years since his valve replacement.   \n",
      "69321                           He meant no harm.   \n",
      "53267                          Bulgaria road map.   \n",
      "73672                          Tom works at home.   \n",
      "92821                    Do you think i'm stupid?   \n",
      "\n",
      "                                                  target  \n",
      "16219  [start] Hii ni miaka tangu uingizwaji wake wa ...  \n",
      "69321            [start] Alimaanisha hakuna ubaya. [end]  \n",
      "53267      [start] Ramani ya barabara ya bulgaria. [end]  \n",
      "73672          [start] Tom anafanya kazi nyumbani. [end]  \n",
      "92821            [start] Unafikiri mimi ni mjinga? [end]  \n"
     ]
    }
   ],
   "source": [
    "\n",
    "# Add 'source' and 'target' columns\n",
    "df['source'] = df['English sentence']\n",
    "df['target'] = df['Swahili Translation'].apply(lambda x: '[start] ' + x + ' [end]')\n",
    "\n",
    "# Drop unnecessary columns\n",
    "df = df.drop(['English sentence', 'Swahili Translation'], axis=1)\n",
    "\n",
    "# Display a few random samples\n",
    "print(df.sample(5))"
   ]
  },
  {
   "cell_type": "code",
   "execution_count": 6,
   "metadata": {
    "execution": {
     "iopub.execute_input": "2025-02-23T22:20:04.840190Z",
     "iopub.status.busy": "2025-02-23T22:20:04.839384Z",
     "iopub.status.idle": "2025-02-23T22:20:04.848454Z",
     "shell.execute_reply": "2025-02-23T22:20:04.847655Z",
     "shell.execute_reply.started": "2025-02-23T22:20:04.840143Z"
    }
   },
   "outputs": [
    {
     "data": {
      "text/html": [
       "<div>\n",
       "<style scoped>\n",
       "    .dataframe tbody tr th:only-of-type {\n",
       "        vertical-align: middle;\n",
       "    }\n",
       "\n",
       "    .dataframe tbody tr th {\n",
       "        vertical-align: top;\n",
       "    }\n",
       "\n",
       "    .dataframe thead th {\n",
       "        text-align: right;\n",
       "    }\n",
       "</style>\n",
       "<table border=\"1\" class=\"dataframe\">\n",
       "  <thead>\n",
       "    <tr style=\"text-align: right;\">\n",
       "      <th></th>\n",
       "      <th>source</th>\n",
       "      <th>target</th>\n",
       "    </tr>\n",
       "  </thead>\n",
       "  <tbody>\n",
       "    <tr>\n",
       "      <th>0</th>\n",
       "      <td>I am.</td>\n",
       "      <td>[start] Mimi ni. [end]</td>\n",
       "    </tr>\n",
       "    <tr>\n",
       "      <th>1</th>\n",
       "      <td>Him.</td>\n",
       "      <td>[start] Yeye. [end]</td>\n",
       "    </tr>\n",
       "    <tr>\n",
       "      <th>2</th>\n",
       "      <td>Her.</td>\n",
       "      <td>[start] Yeye. [end]</td>\n",
       "    </tr>\n",
       "    <tr>\n",
       "      <th>3</th>\n",
       "      <td>You.</td>\n",
       "      <td>[start] Wewe. [end]</td>\n",
       "    </tr>\n",
       "    <tr>\n",
       "      <th>4</th>\n",
       "      <td>We.</td>\n",
       "      <td>[start] Sisi. [end]</td>\n",
       "    </tr>\n",
       "  </tbody>\n",
       "</table>\n",
       "</div>"
      ],
      "text/plain": [
       "  source                  target\n",
       "0  I am.  [start] Mimi ni. [end]\n",
       "1   Him.     [start] Yeye. [end]\n",
       "2   Her.     [start] Yeye. [end]\n",
       "3   You.     [start] Wewe. [end]\n",
       "4    We.     [start] Sisi. [end]"
      ]
     },
     "execution_count": 6,
     "metadata": {},
     "output_type": "execute_result"
    }
   ],
   "source": [
    "df.head()"
   ]
  },
  {
   "cell_type": "markdown",
   "metadata": {
    "papermill": {
     "duration": 0.011793,
     "end_time": "2024-03-24T02:42:52.662393",
     "exception": false,
     "start_time": "2024-03-24T02:42:52.6506",
     "status": "completed"
    },
    "tags": []
   },
   "source": [
    "SPLITTING"
   ]
  },
  {
   "cell_type": "code",
   "execution_count": 7,
   "metadata": {
    "execution": {
     "iopub.execute_input": "2025-02-23T22:20:04.849737Z",
     "iopub.status.busy": "2025-02-23T22:20:04.849468Z",
     "iopub.status.idle": "2025-02-23T22:20:05.096221Z",
     "shell.execute_reply": "2025-02-23T22:20:05.095162Z",
     "shell.execute_reply.started": "2025-02-23T22:20:04.849711Z"
    },
    "papermill": {
     "duration": 0.233867,
     "end_time": "2024-03-24T02:42:52.908213",
     "exception": false,
     "start_time": "2024-03-24T02:42:52.674346",
     "status": "completed"
    },
    "tags": []
   },
   "outputs": [
    {
     "data": {
      "image/png": "[encoded data removed]",
      "text/plain": [
       "<Figure size 640x480 with 1 Axes>"
      ]
     },
     "metadata": {},
     "output_type": "display_data"
    }
   ],
   "source": [
    "# shuffle the data\n",
    "df = df.sample(frac=1).reset_index(drop=True)\n",
    "\n",
    "# split the data into train, validation, and test sets\n",
    "train_size = int(len(df) * 0.7)\n",
    "val_size = int(len(df) * 0.2)\n",
    "test_size = int(len(df) * 0.1)\n",
    "\n",
    "train_df = df[:train_size]\n",
    "val_df = df[train_size:train_size+val_size]\n",
    "test_df = df[train_size+val_size:]\n",
    "\n",
    "# display the data sets representations using a pie chart just to see the distribution of the data\n",
    "labels = 'Train', 'Validation', 'Test'\n",
    "sizes = [len(train_df), len(val_df), len(test_df)]\n",
    "explode = (0.1, 0, 0)\n",
    "fig1, ax1 = plt.subplots()\n",
    "ax1.pie(sizes, explode=explode, labels=labels, autopct='%1.1f%%', shadow=True, startangle=90)\n",
    "ax1.axis('equal')\n",
    "plt.show()\n"
   ]
  },
  {
   "cell_type": "markdown",
   "metadata": {
    "papermill": {
     "duration": 0.012699,
     "end_time": "2024-03-24T02:42:52.933796",
     "exception": false,
     "start_time": "2024-03-24T02:42:52.921097",
     "status": "completed"
    },
    "tags": []
   },
   "source": [
    "# tokenizing"
   ]
  },
  {
   "cell_type": "code",
   "execution_count": 8,
   "metadata": {
    "execution": {
     "iopub.execute_input": "2025-02-23T22:20:05.098048Z",
     "iopub.status.busy": "2025-02-23T22:20:05.097599Z",
     "iopub.status.idle": "2025-02-23T22:20:06.944892Z",
     "shell.execute_reply": "2025-02-23T22:20:06.943876Z",
     "shell.execute_reply.started": "2025-02-23T22:20:05.097996Z"
    },
    "papermill": {
     "duration": 1.41359,
     "end_time": "2024-03-24T02:42:54.384844",
     "exception": false,
     "start_time": "2024-03-24T02:42:52.971254",
     "status": "completed"
    },
    "tags": []
   },
   "outputs": [],
   "source": [
    "max_tokens = 25000\n",
    "sequence_length = 30\n",
    "\n",
    "# define a custom standardization function that convert to lowercase and strips all punctuations except \"[\" and \"]\" (so we can tell apart \"start\" from \"[start]\").\n",
    "strip_chars = string.punctuation\n",
    "strip_chars = strip_chars.replace(\"[\", \"\")\n",
    "strip_chars = strip_chars.replace(\"]\", \"\")\n",
    " \n",
    "def custom_standardization(input_string):\n",
    "    lowercase = tf.strings.lower(input_string)\n",
    "    return tf.strings.regex_replace(\n",
    "        lowercase, f\"[{re.escape(strip_chars)}]\", \"\")\n",
    "\n",
    "# tokenize the data using our custom standardization function\n",
    "source_vectorization = keras.layers.TextVectorization(\n",
    "    max_tokens=max_tokens,\n",
    "    output_mode=\"int\",\n",
    "    output_sequence_length=sequence_length,\n",
    ")\n",
    "target_vectorization = keras.layers.TextVectorization(\n",
    "    max_tokens=max_tokens,\n",
    "    output_mode=\"int\",\n",
    "    output_sequence_length=sequence_length + 1, # add +1 token to our target sentences since they'll be shifted right by 1 during training\n",
    "    standardize=custom_standardization,\n",
    ")\n",
    "\n",
    "# index all tokens in the source and target sentences\n",
    "train_source_texts = train_df['source'].values\n",
    "train_target_texts = train_df['target'].values\n",
    "source_vectorization.adapt(train_source_texts)\n",
    "target_vectorization.adapt(train_target_texts)"
   ]
  },
  {
   "cell_type": "code",
   "execution_count": 9,
   "metadata": {
    "execution": {
     "iopub.execute_input": "2025-02-23T22:20:06.946567Z",
     "iopub.status.busy": "2025-02-23T22:20:06.946257Z",
     "iopub.status.idle": "2025-02-23T22:20:12.116196Z",
     "shell.execute_reply": "2025-02-23T22:20:12.115271Z",
     "shell.execute_reply.started": "2025-02-23T22:20:06.946538Z"
    },
    "papermill": {
     "duration": 6.609412,
     "end_time": "2024-03-24T02:43:01.010105",
     "exception": false,
     "start_time": "2024-03-24T02:42:54.400693",
     "status": "completed"
    },
    "tags": []
   },
   "outputs": [
    {
     "name": "stdout",
     "output_type": "stream",
     "text": [
      "Source texts (one random sample): I often get a letter from him.\n",
      "Target texts (one random sample): [start] Mara nyingi mimi hupokea barua kutoka kwake. [end]\n",
      "Source vectors (one random sample): tf.Tensor(\n",
      "[  5 282  88   6 485  34  43   0   0   0   0   0   0   0   0   0   0   0\n",
      "   0   0   0   0   0   0   0   0   0   0   0   0], shape=(30,), dtype=int64)\n",
      "Target vectors (one random sample): tf.Tensor(\n",
      "[   2   46   69   48 7261  273   36  219    3    0    0    0    0    0\n",
      "    0    0    0    0    0    0    0    0    0    0    0    0    0    0\n",
      "    0    0    0], shape=(31,), dtype=int64)\n",
      "Source decoded texts (one random sample): i often get a letter from him                        \n",
      "Target decoded texts (one random sample): [start] mara nyingi mimi hupokea barua kutoka kwake [end]                       \n"
     ]
    }
   ],
   "source": [
    "# display a random sample before and after vectorization just to test the vectorization\n",
    "random_sample = random.randint(0, len(train_df))\n",
    "print(\"Source texts (one random sample):\", train_source_texts[random_sample])\n",
    "print(\"Target texts (one random sample):\", train_target_texts[random_sample])\n",
    "print(\"Source vectors (one random sample):\", source_vectorization(train_source_texts[random_sample]))\n",
    "print(\"Target vectors (one random sample):\", target_vectorization(train_target_texts[random_sample]))\n",
    "\n",
    "# display the decoding of the vectorized text (from vector back to text) just to test the vectorization\n",
    "source_decoded_text = ''\n",
    "for i in range(len(source_vectorization(train_source_texts[random_sample]))):\n",
    "    source_decoded_text += source_vectorization.get_vocabulary()[source_vectorization(train_source_texts[random_sample])[i]] + ' '\n",
    "print(\"Source decoded texts (one random sample):\", source_decoded_text)\n",
    "\n",
    "target_decoded_text = ''\n",
    "for i in range(len(target_vectorization(train_target_texts[random_sample]))):\n",
    "    target_decoded_text += target_vectorization.get_vocabulary()[target_vectorization(train_target_texts[random_sample])[i]] + ' '\n",
    "print(\"Target decoded texts (one random sample):\", target_decoded_text)"
   ]
  },
  {
   "cell_type": "code",
   "execution_count": 10,
   "metadata": {
    "execution": {
     "iopub.execute_input": "2025-02-23T22:20:12.119089Z",
     "iopub.status.busy": "2025-02-23T22:20:12.118836Z",
     "iopub.status.idle": "2025-02-23T22:20:13.027603Z",
     "shell.execute_reply": "2025-02-23T22:20:13.026676Z",
     "shell.execute_reply.started": "2025-02-23T22:20:12.119064Z"
    },
    "papermill": {
     "duration": 0.658519,
     "end_time": "2024-03-24T02:43:01.682143",
     "exception": false,
     "start_time": "2024-03-24T02:43:01.023624",
     "status": "completed"
    },
    "tags": []
   },
   "outputs": [
    {
     "name": "stdout",
     "output_type": "stream",
     "text": [
      "Source vectors (shape): (139270, 30)\n",
      "Target vectors (shape): (139270, 31)\n"
     ]
    }
   ],
   "source": [
    "# display the shape of our vectorized data\n",
    "train_source_vectors = source_vectorization(train_source_texts)\n",
    "train_target_vectors = target_vectorization(train_target_texts)\n",
    "print(\"Source vectors (shape):\", train_source_vectors.shape)\n",
    "print(\"Target vectors (shape):\", train_target_vectors.shape)"
   ]
  },
  {
   "cell_type": "markdown",
   "metadata": {
    "papermill": {
     "duration": 0.012647,
     "end_time": "2024-03-24T02:43:01.73358",
     "exception": false,
     "start_time": "2024-03-24T02:43:01.720933",
     "status": "completed"
    },
    "tags": []
   },
   "source": [
    "# Positional Embedding"
   ]
  },
  {
   "cell_type": "code",
   "execution_count": 11,
   "metadata": {
    "execution": {
     "iopub.execute_input": "2025-02-23T22:20:13.028710Z",
     "iopub.status.busy": "2025-02-23T22:20:13.028476Z",
     "iopub.status.idle": "2025-02-23T22:20:13.035972Z",
     "shell.execute_reply": "2025-02-23T22:20:13.035031Z",
     "shell.execute_reply.started": "2025-02-23T22:20:13.028685Z"
    },
    "papermill": {
     "duration": 0.024552,
     "end_time": "2024-03-24T02:43:01.796276",
     "exception": false,
     "start_time": "2024-03-24T02:43:01.771724",
     "status": "completed"
    },
    "tags": []
   },
   "outputs": [],
   "source": [
    "class PositionalEmbedding(keras.layers.Layer):\n",
    "    def __init__(self, sequence_length, input_dim, output_dim, **kwargs):\n",
    "        super().__init__(**kwargs)\n",
    "        self.token_embeddings = keras.layers.Embedding(input_dim=input_dim, output_dim=output_dim) # token embedding layer\n",
    "        self.position_embeddings = keras.layers.Embedding(input_dim=sequence_length, output_dim=output_dim) # position embedding layer\n",
    "        self.sequence_length = sequence_length\n",
    "        self.input_dim = input_dim\n",
    "        self.output_dim = output_dim\n",
    "\n",
    "    def call(self, inputs):\n",
    "        embedded_tokens = self.token_embeddings(inputs) # embed the tokens\n",
    "        length = tf.shape(inputs)[-1]\n",
    "        positions = tf.range(start=0, limit=length, delta=1) # create the positional information\n",
    "        embedded_positions = self.position_embeddings(positions) # embed the positions \n",
    "        return embedded_tokens + embedded_positions # add the token and position embeddings to create the positional embeddings\n",
    "\n",
    "    def compute_mask(self, inputs, mask=None):\n",
    "        return keras.ops.not_equal(inputs, 0)\n",
    "\n",
    "    def get_config(self):\n",
    "        config = super(PositionalEmbedding, self).get_config()\n",
    "        config.update({\n",
    "            \"input_dim\": self.input_dim,\n",
    "            \"output_dim\": self.output_dim,\n",
    "            \"sequence_length\": self.sequence_length,\n",
    "        })\n",
    "        return config"
   ]
  },
  {
   "cell_type": "code",
   "execution_count": 12,
   "metadata": {
    "execution": {
     "iopub.execute_input": "2025-02-23T22:20:13.037297Z",
     "iopub.status.busy": "2025-02-23T22:20:13.037029Z",
     "iopub.status.idle": "2025-02-23T22:20:19.116024Z",
     "shell.execute_reply": "2025-02-23T22:20:19.115082Z",
     "shell.execute_reply.started": "2025-02-23T22:20:13.037255Z"
    },
    "papermill": {
     "duration": 4.564727,
     "end_time": "2024-03-24T02:43:06.373884",
     "exception": false,
     "start_time": "2024-03-24T02:43:01.809157",
     "status": "completed"
    },
    "tags": []
   },
   "outputs": [
    {
     "name": "stdout",
     "output_type": "stream",
     "text": [
      "Source texts (one random sample): Grasshoppers are seasonal insects.\n",
      "Target texts (one random sample): [start] Grasshoppers ni wadudu wa msimu. [end]\n",
      "Source vectors (one random sample): tf.Tensor(\n",
      "[ 8174    18 11712  5769     0     0     0     0     0     0     0     0\n",
      "     0     0     0     0     0     0     0     0     0     0     0     0\n",
      "     0     0     0     0     0     0], shape=(30,), dtype=int64)\n",
      "Target vectors (one random sample): tf.Tensor(\n",
      "[    2 19091     8  3094     7   916     3     0     0     0     0     0\n",
      "     0     0     0     0     0     0     0     0     0     0     0     0\n",
      "     0     0     0     0     0     0     0], shape=(31,), dtype=int64)\n",
      "Source embedded vectors (one random sample): tf.Tensor(\n",
      "[[-0.01866499  0.00616622 -0.05402397 ... -0.08396909 -0.03312936\n",
      "   0.06532638]\n",
      " [ 0.04037527 -0.07929007 -0.01828209 ... -0.04480408  0.00403329\n",
      "   0.04680081]\n",
      " [-0.05860395 -0.04521805 -0.08772665 ... -0.01408411  0.0130448\n",
      "   0.00291384]\n",
      " ...\n",
      " [ 0.02281722  0.07147868  0.0247016  ... -0.02860707  0.02992765\n",
      "   0.01600885]\n",
      " [-0.05146397  0.06364115  0.03920709 ... -0.04723538 -0.02731901\n",
      "   0.0136022 ]\n",
      " [ 0.00928311 -0.00020399  0.02835008 ...  0.00173945 -0.06481121\n",
      "  -0.04424887]], shape=(30, 256), dtype=float32)\n",
      "Target embedded vectors (one random sample): tf.Tensor(\n",
      "[[ 0.06299273  0.05230936 -0.0025637  ... -0.08196044  0.02282777\n",
      "  -0.03021208]\n",
      " [ 0.00938365  0.04577161  0.02821214 ...  0.02656137 -0.03556116\n",
      "   0.08888407]\n",
      " [-0.01463448 -0.05828308  0.02448035 ...  0.02182658 -0.02070991\n",
      "  -0.02475784]\n",
      " ...\n",
      " [ 0.04198375  0.01236689 -0.08257329 ... -0.02628219  0.00835415\n",
      "  -0.02693857]\n",
      " [ 0.08617818 -0.03730119 -0.07374662 ...  0.02778574  0.01080993\n",
      "   0.02004427]\n",
      " [ 0.07209317  0.02233265 -0.03698866 ...  0.00773014  0.02331314\n",
      "  -0.03295407]], shape=(30, 256), dtype=float32)\n"
     ]
    }
   ],
   "source": [
    "# display a random sample before and after embbeding just to test our class\n",
    "\n",
    "embed_dim = 256\n",
    "\n",
    "with tf.device('cpu:0'):\n",
    "    train_source_embedded = PositionalEmbedding(\n",
    "        sequence_length=sequence_length,\n",
    "        input_dim=max_tokens,\n",
    "        output_dim=embed_dim,\n",
    "        name=\"source_embedding\",\n",
    "    ) (train_source_vectors)\n",
    "\n",
    "    train_target_embedded = PositionalEmbedding(\n",
    "        sequence_length=sequence_length,\n",
    "        input_dim=max_tokens,\n",
    "        output_dim=embed_dim,\n",
    "        name=\"target_embedding\",\n",
    "    ) (train_source_vectors)\n",
    "\n",
    "    random_sample = random.randint(0, len(train_df))\n",
    "    print(\"Source texts (one random sample):\", train_source_texts[random_sample])\n",
    "    print(\"Target texts (one random sample):\", train_target_texts[random_sample])\n",
    "    print(\"Source vectors (one random sample):\", source_vectorization(train_source_texts[random_sample]))\n",
    "    print(\"Target vectors (one random sample):\", target_vectorization(train_target_texts[random_sample]))\n",
    "    print(\"Source embedded vectors (one random sample):\", train_source_embedded[random_sample])\n",
    "    print(\"Target embedded vectors (one random sample):\", train_target_embedded[random_sample])"
   ]
  },
  {
   "cell_type": "code",
   "execution_count": 13,
   "metadata": {
    "execution": {
     "iopub.execute_input": "2025-02-23T22:20:19.117340Z",
     "iopub.status.busy": "2025-02-23T22:20:19.117058Z",
     "iopub.status.idle": "2025-02-23T22:20:19.122063Z",
     "shell.execute_reply": "2025-02-23T22:20:19.121131Z",
     "shell.execute_reply.started": "2025-02-23T22:20:19.117311Z"
    },
    "papermill": {
     "duration": 0.022335,
     "end_time": "2024-03-24T02:43:06.410932",
     "exception": false,
     "start_time": "2024-03-24T02:43:06.388597",
     "status": "completed"
    },
    "tags": []
   },
   "outputs": [
    {
     "name": "stdout",
     "output_type": "stream",
     "text": [
      "Source embedded vectors (shape): (139270, 30, 256)\n",
      "Target embedded vectors (shape): (139270, 30, 256)\n"
     ]
    }
   ],
   "source": [
    "# display the shape of our embedded data just to test the class\n",
    "print(\"Source embedded vectors (shape):\", train_source_embedded.shape)\n",
    "print(\"Target embedded vectors (shape):\", train_target_embedded.shape)"
   ]
  },
  {
   "cell_type": "markdown",
   "metadata": {
    "papermill": {
     "duration": 0.0131,
     "end_time": "2024-03-24T02:43:06.437494",
     "exception": false,
     "start_time": "2024-03-24T02:43:06.424394",
     "status": "completed"
    },
    "tags": []
   },
   "source": [
    "# Attention "
   ]
  },
  {
   "cell_type": "code",
   "execution_count": 14,
   "metadata": {
    "execution": {
     "iopub.execute_input": "2025-02-23T22:20:19.123387Z",
     "iopub.status.busy": "2025-02-23T22:20:19.123129Z",
     "iopub.status.idle": "2025-02-23T22:20:19.135234Z",
     "shell.execute_reply": "2025-02-23T22:20:19.134563Z",
     "shell.execute_reply.started": "2025-02-23T22:20:19.123361Z"
    },
    "papermill": {
     "duration": 0.025036,
     "end_time": "2024-03-24T02:43:06.555809",
     "exception": false,
     "start_time": "2024-03-24T02:43:06.530773",
     "status": "completed"
    },
    "tags": []
   },
   "outputs": [],
   "source": [
    "# credits to OpenAI for that one (https://github.com/openai/gpt-2/blob/master/src/model.py)\n",
    "\n",
    "def shape_list(x):\n",
    "    \"\"\"Deal with dynamic shape in tensorflow cleanly.\"\"\"\n",
    "    static = x.shape.as_list()\n",
    "    dynamic = tf.shape(x)\n",
    "    return [dynamic[i] if s is None else s for i, s in enumerate(static)]\n",
    "\n",
    "def attention_mask(nd, ns, *, dtype):\n",
    "    \"\"\"1's in the lower triangle, counting from the lower right corner.\n",
    "    Same as tf.matrix_band_part(tf.ones([nd, ns]), -1, ns-nd), but doesn't produce garbage on TPUs.\n",
    "    \"\"\"\n",
    "    i = tf.range(nd)[:,None]\n",
    "    j = tf.range(ns)\n",
    "    m = i >= j - ns + nd\n",
    "    return tf.cast(m, dtype)\n",
    "\n",
    "def mask_attn_weights(w):\n",
    "    # w has shape [batch, heads, dst_sequence, src_sequence], where information flows from src to dst.\n",
    "    _, _, nd, ns = shape_list(w)\n",
    "    b = attention_mask(nd, ns, dtype=w.dtype)\n",
    "    b = tf.reshape(b, [1, 1, nd, ns])\n",
    "    w = w*b - tf.cast(1e10, w.dtype)*(1-b)\n",
    "    return w"
   ]
  },
  {
   "cell_type": "code",
   "execution_count": 15,
   "metadata": {
    "execution": {
     "iopub.execute_input": "2025-02-23T22:20:19.136896Z",
     "iopub.status.busy": "2025-02-23T22:20:19.136336Z",
     "iopub.status.idle": "2025-02-23T22:20:19.172190Z",
     "shell.execute_reply": "2025-02-23T22:20:19.171460Z",
     "shell.execute_reply.started": "2025-02-23T22:20:19.136861Z"
    },
    "papermill": {
     "duration": 0.090471,
     "end_time": "2024-03-24T02:43:06.659665",
     "exception": false,
     "start_time": "2024-03-24T02:43:06.569194",
     "status": "completed"
    },
    "tags": []
   },
   "outputs": [
    {
     "name": "stdout",
     "output_type": "stream",
     "text": [
      "Masked attention weights: tf.Tensor(\n",
      "[[[[ 9.5843720e-01 -1.0000000e+10 -1.0000000e+10 -1.0000000e+10\n",
      "    -1.0000000e+10]\n",
      "   [ 3.3060622e-01  1.1689603e-01 -1.0000000e+10 -1.0000000e+10\n",
      "    -1.0000000e+10]\n",
      "   [ 2.8966928e-01  8.4028912e-01  9.9296749e-01 -1.0000000e+10\n",
      "    -1.0000000e+10]\n",
      "   [ 5.5471718e-01  8.4482193e-01  6.5454841e-02  1.6529107e-01\n",
      "    -1.0000000e+10]\n",
      "   [ 7.1845329e-01  2.6224947e-01  2.5937521e-01  2.3372722e-01\n",
      "     1.8005729e-01]]]], shape=(1, 1, 5, 5), dtype=float32)\n"
     ]
    }
   ],
   "source": [
    "# display the causal masking of a random tensor just to test the function\n",
    "random_tensor = tf.random.uniform(shape=(1, 1, 5, 5), minval=0, maxval=1, dtype=tf.float32)\n",
    "print(\"Masked attention weights:\", mask_attn_weights(random_tensor))"
   ]
  },
  {
   "cell_type": "code",
   "execution_count": 16,
   "metadata": {
    "execution": {
     "iopub.execute_input": "2025-02-23T22:20:19.173287Z",
     "iopub.status.busy": "2025-02-23T22:20:19.173079Z",
     "iopub.status.idle": "2025-02-23T22:20:19.178202Z",
     "shell.execute_reply": "2025-02-23T22:20:19.177280Z",
     "shell.execute_reply.started": "2025-02-23T22:20:19.173265Z"
    },
    "papermill": {
     "duration": 0.022637,
     "end_time": "2024-03-24T02:43:06.750425",
     "exception": false,
     "start_time": "2024-03-24T02:43:06.727788",
     "status": "completed"
    },
    "tags": []
   },
   "outputs": [],
   "source": [
    "def scaled_dot_product_attention(q, k, v, use_causal_mask=False):\n",
    "    d_k = tf.cast(tf.shape(k)[-1], tf.float32)\n",
    "    scores = tf.matmul(q, k, transpose_b=True) # Matmul of Q and K\n",
    "    scaled_scores = scores / tf.math.sqrt(d_k) # Scale\n",
    "    if use_causal_mask:\n",
    "        scaled_scores = mask_attn_weights(scaled_scores) # Mask (opt.)\n",
    "    weights = tf.nn.softmax(scaled_scores, axis=-1) # SoftMax\n",
    "    output = tf.matmul(weights, v) # Matmul of SoftMax and V\n",
    "    return output"
   ]
  },
  {
   "cell_type": "code",
   "execution_count": 17,
   "metadata": {
    "execution": {
     "iopub.execute_input": "2025-02-23T22:20:19.179599Z",
     "iopub.status.busy": "2025-02-23T22:20:19.179268Z",
     "iopub.status.idle": "2025-02-23T22:20:27.849654Z",
     "shell.execute_reply": "2025-02-23T22:20:27.848710Z",
     "shell.execute_reply.started": "2025-02-23T22:20:19.179562Z"
    },
    "papermill": {
     "duration": 6.947731,
     "end_time": "2024-03-24T02:43:13.711689",
     "exception": false,
     "start_time": "2024-03-24T02:43:06.763958",
     "status": "completed"
    },
    "tags": []
   },
   "outputs": [
    {
     "name": "stdout",
     "output_type": "stream",
     "text": [
      "Scaled dot product attention (shape): (139270, 1, 30, 256)\n"
     ]
    }
   ],
   "source": [
    "# display the shape of our attention output just to test the function\n",
    "with tf.device('cpu:0'):\n",
    "    input = train_source_embedded\n",
    "    input = tf.expand_dims(input, axis=1)\n",
    "    print(\"Scaled dot product attention (shape):\", scaled_dot_product_attention(input, input, input, use_causal_mask=True).shape)"
   ]
  },
  {
   "cell_type": "markdown",
   "metadata": {
    "papermill": {
     "duration": 0.013369,
     "end_time": "2024-03-24T02:43:13.738851",
     "exception": false,
     "start_time": "2024-03-24T02:43:13.725482",
     "status": "completed"
    },
    "tags": []
   },
   "source": [
    "**Multi-Head Attention**"
   ]
  },
  {
   "cell_type": "code",
   "execution_count": 18,
   "metadata": {
    "execution": {
     "iopub.execute_input": "2025-02-23T22:20:27.851077Z",
     "iopub.status.busy": "2025-02-23T22:20:27.850798Z",
     "iopub.status.idle": "2025-02-23T22:20:27.860151Z",
     "shell.execute_reply": "2025-02-23T22:20:27.859341Z",
     "shell.execute_reply.started": "2025-02-23T22:20:27.851051Z"
    },
    "papermill": {
     "duration": 0.028579,
     "end_time": "2024-03-24T02:43:13.807406",
     "exception": false,
     "start_time": "2024-03-24T02:43:13.778827",
     "status": "completed"
    },
    "tags": []
   },
   "outputs": [],
   "source": [
    "class MultiHeadAttention(keras.layers.Layer):\n",
    "    def __init__(self, embed_dim, h, **kwargs):\n",
    "        super().__init__(**kwargs)\n",
    "        self.embed_dim = embed_dim\n",
    "        self.h = h\n",
    "        if embed_dim % h != 0:\n",
    "            raise ValueError(\n",
    "                f\"dimension of the embedding space = {embed_dim} should be divisible by number of heads = {h}\"\n",
    "            )\n",
    "        self.q_linear = keras.layers.Dense(embed_dim)\n",
    "        self.k_linear = keras.layers.Dense(embed_dim)\n",
    "        self.v_linear = keras.layers.Dense(embed_dim)\n",
    "        self.concat_linear = keras.layers.Dense(embed_dim)\n",
    "\n",
    "    def split_heads(self, x, batch_size):\n",
    "        x = tf.reshape(x, shape=(batch_size, -1, self.h, self.embed_dim // self.h))\n",
    "        return tf.transpose(x, perm=[0, 2, 1, 3])\n",
    "    \n",
    "    def concat_heads(self, x, batch_size):\n",
    "        x = tf.transpose(x, perm=[0, 2, 1, 3])\n",
    "        return tf.reshape(x, (batch_size, -1, self.embed_dim))\n",
    "\n",
    "    def call(self, q, k, v, use_causal_mask=False):\n",
    "        batch_size = tf.shape(k)[0]\n",
    "        q = self.q_linear(q)\n",
    "        k = self.k_linear(k)\n",
    "        v = self.v_linear(v)\n",
    "        q = self.split_heads(q, batch_size)\n",
    "        k = self.split_heads(k, batch_size)\n",
    "        v = self.split_heads(v, batch_size)\n",
    "        attention = scaled_dot_product_attention(q, k, v, use_causal_mask)\n",
    "        concat = self.concat_heads(attention, batch_size)\n",
    "        concat = self.concat_linear(concat)\n",
    "        return concat\n",
    "\n",
    "    def get_config(self):\n",
    "        config = super(MultiHeadAttention, self).get_config()\n",
    "        config.update({\n",
    "            \"embed_dim\": self.embed_dim,\n",
    "            \"h\": self.h,\n",
    "        })\n",
    "        return config"
   ]
  },
  {
   "cell_type": "markdown",
   "metadata": {
    "papermill": {
     "duration": 0.016689,
     "end_time": "2024-03-24T02:43:13.837568",
     "exception": false,
     "start_time": "2024-03-24T02:43:13.820879",
     "status": "completed"
    },
    "tags": []
   },
   "source": [
    "# The Encoder"
   ]
  },
  {
   "cell_type": "code",
   "execution_count": 19,
   "metadata": {
    "execution": {
     "iopub.execute_input": "2025-02-23T22:20:27.861707Z",
     "iopub.status.busy": "2025-02-23T22:20:27.861303Z",
     "iopub.status.idle": "2025-02-23T22:20:27.880494Z",
     "shell.execute_reply": "2025-02-23T22:20:27.879593Z",
     "shell.execute_reply.started": "2025-02-23T22:20:27.861673Z"
    },
    "papermill": {
     "duration": 0.025125,
     "end_time": "2024-03-24T02:43:13.904122",
     "exception": false,
     "start_time": "2024-03-24T02:43:13.878997",
     "status": "completed"
    },
    "tags": []
   },
   "outputs": [],
   "source": [
    "class TransformerEncoder(keras.layers.Layer):\n",
    "    def __init__(self, embed_dim, dense_dim, num_heads, **kwargs):\n",
    "        super().__init__(**kwargs)\n",
    "        self.embed_dim = embed_dim\n",
    "        self.dense_dim = dense_dim\n",
    "        self.num_heads = num_heads\n",
    "        self.layer_norm_1 = keras.layers.LayerNormalization()\n",
    "        self.layer_norm_2 = keras.layers.LayerNormalization()\n",
    "        self.global_self_attention = MultiHeadAttention(embed_dim=embed_dim, h=num_heads)\n",
    "        self.feed_forward = keras.Sequential(\n",
    "            [keras.layers.Dense(dense_dim, activation=\"relu\"),\n",
    "             keras.layers.Dense(embed_dim),]\n",
    "        )\n",
    "        \n",
    "    def call(self, x):\n",
    "        # Post layer normalization + residual connections\n",
    "        x = self.layer_norm_1(x + self.global_self_attention(q=x, k=x, v=x))\n",
    "        x = self.layer_norm_2(x + self.feed_forward(x))\n",
    "        return x\n",
    "\n",
    "    def get_config(self):\n",
    "        config = super().get_config()\n",
    "        config.update({\n",
    "            \"embed_dim\": self.embed_dim,\n",
    "            \"dense_dim\": self.dense_dim,\n",
    "            \"num_heads\": self.num_heads,\n",
    "        })\n",
    "        return config"
   ]
  },
  {
   "cell_type": "markdown",
   "metadata": {
    "papermill": {
     "duration": 0.013295,
     "end_time": "2024-03-24T02:43:13.930868",
     "exception": false,
     "start_time": "2024-03-24T02:43:13.917573",
     "status": "completed"
    },
    "tags": []
   },
   "source": [
    "# The Decoder"
   ]
  },
  {
   "cell_type": "code",
   "execution_count": 20,
   "metadata": {
    "execution": {
     "iopub.execute_input": "2025-02-23T22:20:27.881875Z",
     "iopub.status.busy": "2025-02-23T22:20:27.881586Z",
     "iopub.status.idle": "2025-02-23T22:20:27.894040Z",
     "shell.execute_reply": "2025-02-23T22:20:27.893301Z",
     "shell.execute_reply.started": "2025-02-23T22:20:27.881846Z"
    },
    "papermill": {
     "duration": 0.029098,
     "end_time": "2024-03-24T02:43:14.005434",
     "exception": false,
     "start_time": "2024-03-24T02:43:13.976336",
     "status": "completed"
    },
    "tags": []
   },
   "outputs": [],
   "source": [
    "class TransformerDecoder(keras.layers.Layer):\n",
    "    def __init__(self, embed_dim, dense_dim, num_heads, **kwargs):\n",
    "        super().__init__(**kwargs)\n",
    "        self.embed_dim = embed_dim\n",
    "        self.dense_dim = dense_dim\n",
    "        self.num_heads = num_heads\n",
    "        self.causal_self_attention = MultiHeadAttention(embed_dim=embed_dim, h=num_heads)\n",
    "        self.cross_attention = MultiHeadAttention(embed_dim=embed_dim, h=num_heads)\n",
    "        self.feed_forward = keras.Sequential(\n",
    "            [keras.layers.Dense(dense_dim, activation=\"relu\"),\n",
    "             keras.layers.Dense(embed_dim),]\n",
    "        )\n",
    "        self.layer_norm_1 = keras.layers.LayerNormalization()\n",
    "        self.layer_norm_2 = keras.layers.LayerNormalization()\n",
    "        self.layer_norm_3 = keras.layers.LayerNormalization()\n",
    "\n",
    "    def get_config(self):\n",
    "        config = super().get_config()\n",
    "        config.update({\n",
    "            \"embed_dim\": self.embed_dim,\n",
    "            \"dense_dim\": self.dense_dim,\n",
    "            \"num_heads\": self.num_heads,\n",
    "        })\n",
    "        return config\n",
    "\n",
    "    def call(self, x, context):\n",
    "        # Post layer normalization + residual connections\n",
    "        x = self.layer_norm_1(x + self.causal_self_attention(q=x, k=x, v=x, use_causal_mask=True))\n",
    "        x = self.layer_norm_2(x + self.cross_attention(q=x, k=context, v=context))\n",
    "        x = self.layer_norm_3(x + self.feed_forward(x))\n",
    "        return x"
   ]
  },
  {
   "cell_type": "markdown",
   "metadata": {},
   "source": [
    "# THE TRANSFORMER"
   ]
  },
  {
   "cell_type": "code",
   "execution_count": 21,
   "metadata": {
    "execution": {
     "iopub.execute_input": "2025-02-23T22:20:27.895460Z",
     "iopub.status.busy": "2025-02-23T22:20:27.895118Z",
     "iopub.status.idle": "2025-02-23T22:20:28.280698Z",
     "shell.execute_reply": "2025-02-23T22:20:28.279546Z",
     "shell.execute_reply.started": "2025-02-23T22:20:27.895402Z"
    },
    "papermill": {
     "duration": 0.436775,
     "end_time": "2024-03-24T02:43:14.509572",
     "exception": false,
     "start_time": "2024-03-24T02:43:14.072797",
     "status": "completed"
    },
    "tags": []
   },
   "outputs": [],
   "source": [
    "batch_size = 64\n",
    "\n",
    "def format_dataset(source, target):\n",
    "    source_vectors = source_vectorization(source)\n",
    "    target_vectors = target_vectorization(target)\n",
    "    return ({\n",
    "        \"source\": source_vectors, # encoder_inputs\n",
    "        \"target\": target_vectors[:, :-1], # decoder_inputs (truncate by 1 to keep it at the same length as decoder_outputs, which is shifted right by 1).\n",
    "    }, target_vectors[:, 1:]) # decoder_outputs\n",
    "\n",
    "def make_dataset(df):\n",
    "    dataset = tf.data.Dataset.from_tensor_slices((df[\"source\"].values, df[\"target\"].values))\n",
    "    dataset = dataset.batch(batch_size)\n",
    "    dataset = dataset.map(format_dataset, num_parallel_calls=4)\n",
    "    return dataset.shuffle(2048).prefetch(16).cache()\n",
    "\n",
    "train_ds = make_dataset(train_df)\n",
    "val_ds = make_dataset(val_df)"
   ]
  },
  {
   "cell_type": "code",
   "execution_count": 22,
   "metadata": {
    "execution": {
     "iopub.execute_input": "2025-02-23T22:20:28.282183Z",
     "iopub.status.busy": "2025-02-23T22:20:28.281846Z",
     "iopub.status.idle": "2025-02-23T22:20:28.970420Z",
     "shell.execute_reply": "2025-02-23T22:20:28.969465Z",
     "shell.execute_reply.started": "2025-02-23T22:20:28.282145Z"
    },
    "papermill": {
     "duration": 0.625052,
     "end_time": "2024-03-24T02:43:15.148816",
     "exception": false,
     "start_time": "2024-03-24T02:43:14.523764",
     "status": "completed"
    },
    "tags": []
   },
   "outputs": [
    {
     "name": "stdout",
     "output_type": "stream",
     "text": [
      "Encoder Inputs: (64, 30)\n",
      "Decoder Inputs: (64, 30)\n",
      "Decoder Outputs: (64, 30)\n"
     ]
    }
   ],
   "source": [
    "# display the shape of the first batch of data in the dataset just to see what it looks like\n",
    "for batch in train_ds.take(1):\n",
    "    print(\"Encoder Inputs:\", batch[0][\"source\"].shape)\n",
    "    print(\"Decoder Inputs:\", batch[0][\"target\"].shape)\n",
    "    print(\"Decoder Outputs:\", batch[1].shape)"
   ]
  },
  {
   "cell_type": "code",
   "execution_count": 23,
   "metadata": {
    "execution": {
     "iopub.execute_input": "2025-02-23T22:20:28.972355Z",
     "iopub.status.busy": "2025-02-23T22:20:28.971732Z",
     "iopub.status.idle": "2025-02-23T22:20:29.743095Z",
     "shell.execute_reply": "2025-02-23T22:20:29.742184Z",
     "shell.execute_reply.started": "2025-02-23T22:20:28.972313Z"
    },
    "papermill": {
     "duration": 1.08639,
     "end_time": "2024-03-24T02:43:16.276065",
     "exception": false,
     "start_time": "2024-03-24T02:43:15.189675",
     "status": "completed"
    },
    "tags": []
   },
   "outputs": [
    {
     "name": "stderr",
     "output_type": "stream",
     "text": [
      "/opt/conda/lib/python3.10/site-packages/keras/src/layers/layer.py:877: UserWarning: Layer 'transformer_encoder' (of type TransformerEncoder) was passed an input with a mask attached to it. However, this layer does not support masking and will therefore destroy the mask information. Downstream layers will not see the mask.\n",
      "  warnings.warn(\n",
      "/opt/conda/lib/python3.10/site-packages/keras/src/layers/layer.py:877: UserWarning: Layer 'transformer_decoder' (of type TransformerDecoder) was passed an input with a mask attached to it. However, this layer does not support masking and will therefore destroy the mask information. Downstream layers will not see the mask.\n",
      "  warnings.warn(\n"
     ]
    }
   ],
   "source": [
    "embed_dim = 512 # dimension of the embedding space\n",
    "dense_dim = 2048 # dimension of the feed forward network (a rule of thumb is to use 4 times the size of the embeddings)\n",
    "num_heads = 8\n",
    "\n",
    "# the transformer body\n",
    "encoder_inputs = keras.Input(shape=(None,), dtype=\"int64\", name=\"source\")\n",
    "x = PositionalEmbedding(sequence_length, max_tokens, embed_dim)(encoder_inputs)\n",
    "encoder_outputs = TransformerEncoder(embed_dim, dense_dim, num_heads)(x)\n",
    "decoder_inputs = keras.Input(shape=(None,), dtype=\"int64\", name=\"target\")\n",
    "x = PositionalEmbedding(sequence_length, max_tokens, embed_dim)(decoder_inputs)\n",
    "x = TransformerDecoder(embed_dim, dense_dim, num_heads)(x, encoder_outputs)\n",
    "\n",
    "# the transformer head\n",
    "x = keras.layers.Dropout(0.5)(x)\n",
    "decoder_outputs = keras.layers.Dense(max_tokens, activation=\"softmax\")(x)\n",
    "\n",
    "transformer = keras.Model([encoder_inputs, decoder_inputs], decoder_outputs)"
   ]
  },
  {
   "cell_type": "markdown",
   "metadata": {
    "papermill": {
     "duration": 0.013541,
     "end_time": "2024-03-24T02:43:16.303588",
     "exception": false,
     "start_time": "2024-03-24T02:43:16.290047",
     "status": "completed"
    },
    "tags": []
   },
   "source": [
    "# Training the Transformer"
   ]
  },
  {
   "cell_type": "code",
   "execution_count": 24,
   "metadata": {
    "execution": {
     "iopub.execute_input": "2025-02-23T22:20:29.744987Z",
     "iopub.status.busy": "2025-02-23T22:20:29.744309Z",
     "iopub.status.idle": "2025-02-23T22:20:29.749111Z",
     "shell.execute_reply": "2025-02-23T22:20:29.748153Z",
     "shell.execute_reply.started": "2025-02-23T22:20:29.744943Z"
    }
   },
   "outputs": [],
   "source": [
    "from tensorflow import keras\n"
   ]
  },
  {
   "cell_type": "code",
   "execution_count": 25,
   "metadata": {
    "execution": {
     "iopub.execute_input": "2025-02-23T22:20:29.750485Z",
     "iopub.status.busy": "2025-02-23T22:20:29.750195Z",
     "iopub.status.idle": "2025-02-23T22:20:29.758073Z",
     "shell.execute_reply": "2025-02-23T22:20:29.757320Z",
     "shell.execute_reply.started": "2025-02-23T22:20:29.750452Z"
    }
   },
   "outputs": [],
   "source": [
    "import tensorflow as tf\n",
    "if not hasattr(tf.keras.backend, \"convert_to_numpy\"):\n",
    "    tf.keras.backend.convert_to_numpy = lambda x: x.numpy() if hasattr(x, \"numpy\") else x\n"
   ]
  },
  {
   "cell_type": "code",
   "execution_count": 26,
   "metadata": {
    "_kg_hide-input": true,
    "_kg_hide-output": true,
    "execution": {
     "iopub.execute_input": "2025-02-23T22:20:29.759696Z",
     "iopub.status.busy": "2025-02-23T22:20:29.759307Z",
     "iopub.status.idle": "2025-02-23T22:20:42.026597Z",
     "shell.execute_reply": "2025-02-23T22:20:42.025526Z",
     "shell.execute_reply.started": "2025-02-23T22:20:29.759656Z"
    }
   },
   "outputs": [
    {
     "name": "stderr",
     "output_type": "stream",
     "text": [
      "/opt/conda/lib/python3.10/pty.py:89: RuntimeWarning: os.fork() was called. os.fork() is incompatible with multithreaded code, and JAX is multithreaded, so this will likely lead to a deadlock.\n",
      "  pid, fd = os.forkpty()\n"
     ]
    },
    {
     "name": "stdout",
     "output_type": "stream",
     "text": [
      "Requirement already satisfied: tensorflow in /opt/conda/lib/python3.10/site-packages (2.16.1)\n",
      "Collecting tensorflow\n",
      "  Downloading tensorflow-2.18.0-cp310-cp310-manylinux_2_17_x86_64.manylinux2014_x86_64.whl.metadata (4.1 kB)\n",
      "Requirement already satisfied: absl-py>=1.0.0 in /opt/conda/lib/python3.10/site-packages (from tensorflow) (1.4.0)\n",
      "Requirement already satisfied: astunparse>=1.6.0 in /opt/conda/lib/python3.10/site-packages (from tensorflow) (1.6.3)\n",
      "Requirement already satisfied: flatbuffers>=24.3.25 in /opt/conda/lib/python3.10/site-packages (from tensorflow) (24.3.25)\n",
      "Requirement already satisfied: gast!=0.5.0,!=0.5.1,!=0.5.2,>=0.2.1 in /opt/conda/lib/python3.10/site-packages (from tensorflow) (0.5.4)\n",
      "Requirement already satisfied: google-pasta>=0.1.1 in /opt/conda/lib/python3.10/site-packages (from tensorflow) (0.2.0)\n",
      "Requirement already satisfied: libclang>=13.0.0 in /opt/conda/lib/python3.10/site-packages (from tensorflow) (18.1.1)\n",
      "Requirement already satisfied: opt-einsum>=2.3.2 in /opt/conda/lib/python3.10/site-packages (from tensorflow) (3.3.0)\n",
      "Requirement already satisfied: packaging in /opt/conda/lib/python3.10/site-packages (from tensorflow) (21.3)\n",
      "Requirement already satisfied: protobuf!=4.21.0,!=4.21.1,!=4.21.2,!=4.21.3,!=4.21.4,!=4.21.5,<6.0.0dev,>=3.20.3 in /opt/conda/lib/python3.10/site-packages (from tensorflow) (3.20.3)\n",
      "Requirement already satisfied: requests<3,>=2.21.0 in /opt/conda/lib/python3.10/site-packages (from tensorflow) (2.32.3)\n",
      "Requirement already satisfied: setuptools in /opt/conda/lib/python3.10/site-packages (from tensorflow) (70.0.0)\n",
      "Requirement already satisfied: six>=1.12.0 in /opt/conda/lib/python3.10/site-packages (from tensorflow) (1.16.0)\n",
      "Requirement already satisfied: termcolor>=1.1.0 in /opt/conda/lib/python3.10/site-packages (from tensorflow) (2.4.0)\n",
      "Requirement already satisfied: typing-extensions>=3.6.6 in /opt/conda/lib/python3.10/site-packages (from tensorflow) (4.12.2)\n",
      "Requirement already satisfied: wrapt>=1.11.0 in /opt/conda/lib/python3.10/site-packages (from tensorflow) (1.16.0)\n",
      "Requirement already satisfied: grpcio<2.0,>=1.24.3 in /opt/conda/lib/python3.10/site-packages (from tensorflow) (1.62.2)\n",
      "Collecting tensorboard<2.19,>=2.18 (from tensorflow)\n",
      "  Downloading tensorboard-2.18.0-py3-none-any.whl.metadata (1.6 kB)\n",
      "Collecting keras>=3.5.0 (from tensorflow)\n",
      "  Downloading keras-3.8.0-py3-none-any.whl.metadata (5.8 kB)\n",
      "Requirement already satisfied: numpy<2.1.0,>=1.26.0 in /opt/conda/lib/python3.10/site-packages (from tensorflow) (1.26.4)\n",
      "Requirement already satisfied: h5py>=3.11.0 in /opt/conda/lib/python3.10/site-packages (from tensorflow) (3.11.0)\n",
      "Collecting ml-dtypes<0.5.0,>=0.4.0 (from tensorflow)\n",
      "  Downloading ml_dtypes-0.4.1-cp310-cp310-manylinux_2_17_x86_64.manylinux2014_x86_64.whl.metadata (20 kB)\n",
      "Requirement already satisfied: tensorflow-io-gcs-filesystem>=0.23.1 in /opt/conda/lib/python3.10/site-packages (from tensorflow) (0.37.0)\n",
      "Requirement already satisfied: wheel<1.0,>=0.23.0 in /opt/conda/lib/python3.10/site-packages (from astunparse>=1.6.0->tensorflow) (0.43.0)\n",
      "Requirement already satisfied: rich in /opt/conda/lib/python3.10/site-packages (from keras>=3.5.0->tensorflow) (13.7.1)\n",
      "Requirement already satisfied: namex in /opt/conda/lib/python3.10/site-packages (from keras>=3.5.0->tensorflow) (0.0.8)\n",
      "Requirement already satisfied: optree in /opt/conda/lib/python3.10/site-packages (from keras>=3.5.0->tensorflow) (0.11.0)\n",
      "Requirement already satisfied: charset-normalizer<4,>=2 in /opt/conda/lib/python3.10/site-packages (from requests<3,>=2.21.0->tensorflow) (3.3.2)\n",
      "Requirement already satisfied: idna<4,>=2.5 in /opt/conda/lib/python3.10/site-packages (from requests<3,>=2.21.0->tensorflow) (3.7)\n",
      "Requirement already satisfied: urllib3<3,>=1.21.1 in /opt/conda/lib/python3.10/site-packages (from requests<3,>=2.21.0->tensorflow) (1.26.18)\n",
      "Requirement already satisfied: certifi>=2017.4.17 in /opt/conda/lib/python3.10/site-packages (from requests<3,>=2.21.0->tensorflow) (2024.6.2)\n",
      "Requirement already satisfied: markdown>=2.6.8 in /opt/conda/lib/python3.10/site-packages (from tensorboard<2.19,>=2.18->tensorflow) (3.6)\n",
      "Requirement already satisfied: tensorboard-data-server<0.8.0,>=0.7.0 in /opt/conda/lib/python3.10/site-packages (from tensorboard<2.19,>=2.18->tensorflow) (0.7.2)\n",
      "Requirement already satisfied: werkzeug>=1.0.1 in /opt/conda/lib/python3.10/site-packages (from tensorboard<2.19,>=2.18->tensorflow) (3.1.3)\n",
      "Requirement already satisfied: pyparsing!=3.0.5,>=2.0.2 in /opt/conda/lib/python3.10/site-packages (from packaging->tensorflow) (3.1.2)\n",
      "Requirement already satisfied: MarkupSafe>=2.1.1 in /opt/conda/lib/python3.10/site-packages (from werkzeug>=1.0.1->tensorboard<2.19,>=2.18->tensorflow) (2.1.5)\n",
      "Requirement already satisfied: markdown-it-py>=2.2.0 in /opt/conda/lib/python3.10/site-packages (from rich->keras>=3.5.0->tensorflow) (3.0.0)\n",
      "Requirement already satisfied: pygments<3.0.0,>=2.13.0 in /opt/conda/lib/python3.10/site-packages (from rich->keras>=3.5.0->tensorflow) (2.18.0)\n",
      "Requirement already satisfied: mdurl~=0.1 in /opt/conda/lib/python3.10/site-packages (from markdown-it-py>=2.2.0->rich->keras>=3.5.0->tensorflow) (0.1.2)\n",
      "Downloading tensorflow-2.18.0-cp310-cp310-manylinux_2_17_x86_64.manylinux2014_x86_64.whl (615.3 MB)\n",
      "\u001b[2K   \u001b[90m━━━━━━━━━━━━━━━━━━━━━━━━━━━━━━━━━━━━━━━━\u001b[0m \u001b[32m615.3/615.3 MB\u001b[0m \u001b[31m2.8 MB/s\u001b[0m eta \u001b[36m0:00:00\u001b[0m:00:01\u001b[0m00:01\u001b[0m\n",
      "\u001b[?25hDownloading keras-3.8.0-py3-none-any.whl (1.3 MB)\n",
      "\u001b[2K   \u001b[90m━━━━━━━━━━━━━━━━━━━━━━━━━━━━━━━━━━━━━━━━\u001b[0m \u001b[32m1.3/1.3 MB\u001b[0m \u001b[31m47.1 MB/s\u001b[0m eta \u001b[36m0:00:00\u001b[0m\n",
      "\u001b[?25hDownloading ml_dtypes-0.4.1-cp310-cp310-manylinux_2_17_x86_64.manylinux2014_x86_64.whl (2.2 MB)\n",
      "\u001b[2K   \u001b[90m━━━━━━━━━━━━━━━━━━━━━━━━━━━━━━━━━━━━━━━━\u001b[0m \u001b[32m2.2/2.2 MB\u001b[0m \u001b[31m75.1 MB/s\u001b[0m eta \u001b[36m0:00:00\u001b[0m\n",
      "\u001b[?25hDownloading tensorboard-2.18.0-py3-none-any.whl (5.5 MB)\n",
      "\u001b[2K   \u001b[90m━━━━━━━━━━━━━━━━━━━━━━━━━━━━━━━━━━━━━━━━\u001b[0m \u001b[32m5.5/5.5 MB\u001b[0m \u001b[31m87.0 MB/s\u001b[0m eta \u001b[36m0:00:00\u001b[0mta \u001b[36m0:00:01\u001b[0m\n",
      "\u001b[?25h^C\n",
      "\u001b[31mERROR: Operation cancelled by user\u001b[0m\u001b[31m\n",
      "\u001b[0mNote: you may need to restart the kernel to use updated packages.\n"
     ]
    }
   ],
   "source": [
    "pip install --upgrade tensorflow\n"
   ]
  },
  {
   "cell_type": "code",
   "execution_count": 27,
   "metadata": {
    "execution": {
     "iopub.execute_input": "2025-02-23T22:20:42.029171Z",
     "iopub.status.busy": "2025-02-23T22:20:42.028238Z",
     "iopub.status.idle": "2025-02-23T22:20:42.034387Z",
     "shell.execute_reply": "2025-02-23T22:20:42.033599Z",
     "shell.execute_reply.started": "2025-02-23T22:20:42.029122Z"
    }
   },
   "outputs": [
    {
     "name": "stdout",
     "output_type": "stream",
     "text": [
      "TensorFlow Version: 2.16.1\n",
      "Keras Version: 3.3.3\n"
     ]
    }
   ],
   "source": [
    "import tensorflow as tf\n",
    "import keras\n",
    "\n",
    "print(\"TensorFlow Version:\", tf.__version__)\n",
    "print(\"Keras Version:\", keras.__version__)\n"
   ]
  },
  {
   "cell_type": "code",
   "execution_count": 28,
   "metadata": {
    "execution": {
     "iopub.execute_input": "2025-02-23T22:20:42.040390Z",
     "iopub.status.busy": "2025-02-23T22:20:42.039839Z",
     "iopub.status.idle": "2025-02-23T22:20:44.299878Z",
     "shell.execute_reply": "2025-02-23T22:20:44.298923Z",
     "shell.execute_reply.started": "2025-02-23T22:20:42.040351Z"
    }
   },
   "outputs": [
    {
     "name": "stdout",
     "output_type": "stream",
     "text": [
      "Found existing installation: keras 3.3.3\n",
      "Uninstalling keras-3.3.3:\n",
      "  Successfully uninstalled keras-3.3.3\n",
      "Note: you may need to restart the kernel to use updated packages.\n"
     ]
    }
   ],
   "source": [
    "pip uninstall keras -y\n"
   ]
  },
  {
   "cell_type": "markdown",
   "metadata": {},
   "source": [
    "# TRAINING"
   ]
  },
  {
   "cell_type": "code",
   "execution_count": 29,
   "metadata": {
    "execution": {
     "iopub.execute_input": "2025-02-23T22:20:44.301565Z",
     "iopub.status.busy": "2025-02-23T22:20:44.301236Z",
     "iopub.status.idle": "2025-02-23T22:56:46.838149Z",
     "shell.execute_reply": "2025-02-23T22:56:46.837434Z",
     "shell.execute_reply.started": "2025-02-23T22:20:44.301533Z"
    },
    "papermill": {
     "duration": 2419.625943,
     "end_time": "2024-03-24T03:23:35.943225",
     "exception": false,
     "start_time": "2024-03-24T02:43:16.317282",
     "status": "completed"
    },
    "tags": []
   },
   "outputs": [
    {
     "name": "stdout",
     "output_type": "stream",
     "text": [
      "Epoch 1/50\n"
     ]
    },
    {
     "name": "stderr",
     "output_type": "stream",
     "text": [
      "/opt/conda/lib/python3.10/site-packages/keras/src/layers/layer.py:877: UserWarning: Layer 'multi_head_attention' (of type MultiHeadAttention) was passed an input with a mask attached to it. However, this layer does not support masking and will therefore destroy the mask information. Downstream layers will not see the mask.\n",
      "  warnings.warn(\n",
      "/opt/conda/lib/python3.10/site-packages/keras/src/layers/layer.py:877: UserWarning: Layer 'multi_head_attention_1' (of type MultiHeadAttention) was passed an input with a mask attached to it. However, this layer does not support masking and will therefore destroy the mask information. Downstream layers will not see the mask.\n",
      "  warnings.warn(\n",
      "WARNING: All log messages before absl::InitializeLog() is called are written to STDERR\n",
      "I0000 00:00:1740349249.827100      88 service.cc:145] XLA service 0x7b7b88003260 initialized for platform CUDA (this does not guarantee that XLA will be used). Devices:\n",
      "I0000 00:00:1740349249.827179      88 service.cc:153]   StreamExecutor device (0): Tesla P100-PCIE-16GB, Compute Capability 6.0\n",
      "W0000 00:00:1740349250.133347      88 assert_op.cc:38] Ignoring Assert operator compile_loss/sparse_categorical_crossentropy/SparseSoftmaxCrossEntropyWithLogits/assert_equal_1/Assert/Assert\n"
     ]
    },
    {
     "name": "stdout",
     "output_type": "stream",
     "text": [
      "\u001b[1m   2/2177\u001b[0m \u001b[37m━━━━━━━━━━━━━━━━━━━━\u001b[0m \u001b[1m2:22\u001b[0m 66ms/step - accuracy: 0.1704 - loss: 9.6350       "
     ]
    },
    {
     "name": "stderr",
     "output_type": "stream",
     "text": [
      "I0000 00:00:1740349256.360691      88 device_compiler.h:188] Compiled cluster using XLA!  This line is logged at most once for the lifetime of the process.\n"
     ]
    },
    {
     "name": "stdout",
     "output_type": "stream",
     "text": [
      "\u001b[1m1274/2177\u001b[0m \u001b[32m━━━━━━━━━━━\u001b[0m\u001b[37m━━━━━━━━━\u001b[0m \u001b[1m48s\u001b[0m 54ms/step - accuracy: 0.7649 - loss: 1.9341"
     ]
    },
    {
     "name": "stderr",
     "output_type": "stream",
     "text": [
      "W0000 00:00:1740349325.642561      88 assert_op.cc:38] Ignoring Assert operator compile_loss/sparse_categorical_crossentropy/SparseSoftmaxCrossEntropyWithLogits/assert_equal_1/Assert/Assert\n"
     ]
    },
    {
     "name": "stdout",
     "output_type": "stream",
     "text": [
      "\u001b[1m2177/2177\u001b[0m \u001b[32m━━━━━━━━━━━━━━━━━━━━\u001b[0m\u001b[37m\u001b[0m \u001b[1m0s\u001b[0m 56ms/step - accuracy: 0.7792 - loss: 1.7578"
     ]
    },
    {
     "name": "stderr",
     "output_type": "stream",
     "text": [
      "W0000 00:00:1740349378.821622      87 assert_op.cc:38] Ignoring Assert operator compile_loss/sparse_categorical_crossentropy/SparseSoftmaxCrossEntropyWithLogits/assert_equal_1/Assert/Assert\n",
      "W0000 00:00:1740349381.343061      89 assert_op.cc:38] Ignoring Assert operator compile_loss/sparse_categorical_crossentropy/SparseSoftmaxCrossEntropyWithLogits/assert_equal_1/Assert/Assert\n"
     ]
    },
    {
     "name": "stdout",
     "output_type": "stream",
     "text": [
      "\u001b[1m2177/2177\u001b[0m \u001b[32m━━━━━━━━━━━━━━━━━━━━\u001b[0m\u001b[37m\u001b[0m \u001b[1m147s\u001b[0m 62ms/step - accuracy: 0.7792 - loss: 1.7577 - val_accuracy: 0.8453 - val_loss: 1.0444 - learning_rate: 0.0010\n",
      "Epoch 2/50\n",
      "\u001b[1m2177/2177\u001b[0m \u001b[32m━━━━━━━━━━━━━━━━━━━━\u001b[0m\u001b[37m\u001b[0m \u001b[1m125s\u001b[0m 57ms/step - accuracy: 0.8431 - loss: 1.0848 - val_accuracy: 0.8636 - val_loss: 0.8896 - learning_rate: 0.0010\n",
      "Epoch 3/50\n",
      "\u001b[1m2177/2177\u001b[0m \u001b[32m━━━━━━━━━━━━━━━━━━━━\u001b[0m\u001b[37m\u001b[0m \u001b[1m124s\u001b[0m 57ms/step - accuracy: 0.8601 - loss: 0.9152 - val_accuracy: 0.8697 - val_loss: 0.8374 - learning_rate: 0.0010\n",
      "Epoch 4/50\n",
      "\u001b[1m2177/2177\u001b[0m \u001b[32m━━━━━━━━━━━━━━━━━━━━\u001b[0m\u001b[37m\u001b[0m \u001b[1m126s\u001b[0m 58ms/step - accuracy: 0.8716 - loss: 0.8111 - val_accuracy: 0.8734 - val_loss: 0.8044 - learning_rate: 0.0010\n",
      "Epoch 5/50\n",
      "\u001b[1m2177/2177\u001b[0m \u001b[32m━━━━━━━━━━━━━━━━━━━━\u001b[0m\u001b[37m\u001b[0m \u001b[1m127s\u001b[0m 58ms/step - accuracy: 0.8804 - loss: 0.7373 - val_accuracy: 0.8757 - val_loss: 0.8044 - learning_rate: 0.0010\n",
      "Epoch 6/50\n",
      "\u001b[1m2177/2177\u001b[0m \u001b[32m━━━━━━━━━━━━━━━━━━━━\u001b[0m\u001b[37m\u001b[0m \u001b[1m128s\u001b[0m 59ms/step - accuracy: 0.8872 - loss: 0.6824 - val_accuracy: 0.8768 - val_loss: 0.8023 - learning_rate: 0.0010\n",
      "Epoch 7/50\n",
      "\u001b[1m2177/2177\u001b[0m \u001b[32m━━━━━━━━━━━━━━━━━━━━\u001b[0m\u001b[37m\u001b[0m \u001b[1m126s\u001b[0m 58ms/step - accuracy: 0.8933 - loss: 0.6369 - val_accuracy: 0.8776 - val_loss: 0.8169 - learning_rate: 0.0010\n",
      "Epoch 8/50\n",
      "\u001b[1m2177/2177\u001b[0m \u001b[32m━━━━━━━━━━━━━━━━━━━━\u001b[0m\u001b[37m\u001b[0m \u001b[1m125s\u001b[0m 58ms/step - accuracy: 0.8985 - loss: 0.5984 - val_accuracy: 0.8780 - val_loss: 0.8276 - learning_rate: 0.0010\n",
      "Epoch 9/50\n",
      "\u001b[1m2177/2177\u001b[0m \u001b[32m━━━━━━━━━━━━━━━━━━━━\u001b[0m\u001b[37m\u001b[0m \u001b[1m126s\u001b[0m 58ms/step - accuracy: 0.9032 - loss: 0.5651 - val_accuracy: 0.8786 - val_loss: 0.8296 - learning_rate: 0.0010\n",
      "Epoch 10/50\n",
      "\u001b[1m2177/2177\u001b[0m \u001b[32m━━━━━━━━━━━━━━━━━━━━\u001b[0m\u001b[37m\u001b[0m \u001b[1m128s\u001b[0m 59ms/step - accuracy: 0.9168 - loss: 0.4736 - val_accuracy: 0.8891 - val_loss: 0.7456 - learning_rate: 1.0000e-04\n",
      "Epoch 11/50\n",
      "\u001b[1m2177/2177\u001b[0m \u001b[32m━━━━━━━━━━━━━━━━━━━━\u001b[0m\u001b[37m\u001b[0m \u001b[1m127s\u001b[0m 58ms/step - accuracy: 0.9297 - loss: 0.3902 - val_accuracy: 0.8896 - val_loss: 0.7425 - learning_rate: 1.0000e-04\n",
      "Epoch 12/50\n",
      "\u001b[1m2177/2177\u001b[0m \u001b[32m━━━━━━━━━━━━━━━━━━━━\u001b[0m\u001b[37m\u001b[0m \u001b[1m126s\u001b[0m 58ms/step - accuracy: 0.9352 - loss: 0.3556 - val_accuracy: 0.8899 - val_loss: 0.7457 - learning_rate: 1.0000e-04\n",
      "Epoch 13/50\n",
      "\u001b[1m2177/2177\u001b[0m \u001b[32m━━━━━━━━━━━━━━━━━━━━\u001b[0m\u001b[37m\u001b[0m \u001b[1m125s\u001b[0m 57ms/step - accuracy: 0.9392 - loss: 0.3298 - val_accuracy: 0.8898 - val_loss: 0.7502 - learning_rate: 1.0000e-04\n",
      "Epoch 14/50\n",
      "\u001b[1m2177/2177\u001b[0m \u001b[32m━━━━━━━━━━━━━━━━━━━━\u001b[0m\u001b[37m\u001b[0m \u001b[1m126s\u001b[0m 58ms/step - accuracy: 0.9426 - loss: 0.3090 - val_accuracy: 0.8898 - val_loss: 0.7556 - learning_rate: 1.0000e-04\n",
      "Epoch 15/50\n",
      "\u001b[1m2177/2177\u001b[0m \u001b[32m━━━━━━━━━━━━━━━━━━━━\u001b[0m\u001b[37m\u001b[0m \u001b[1m125s\u001b[0m 58ms/step - accuracy: 0.9454 - loss: 0.2929 - val_accuracy: 0.8904 - val_loss: 0.7518 - learning_rate: 1.0000e-05\n",
      "Epoch 16/50\n",
      "\u001b[1m2177/2177\u001b[0m \u001b[32m━━━━━━━━━━━━━━━━━━━━\u001b[0m\u001b[37m\u001b[0m \u001b[1m125s\u001b[0m 58ms/step - accuracy: 0.9465 - loss: 0.2868 - val_accuracy: 0.8905 - val_loss: 0.7514 - learning_rate: 1.0000e-05\n",
      "Epoch 17/50\n",
      "\u001b[1m2177/2177\u001b[0m \u001b[32m━━━━━━━━━━━━━━━━━━━━\u001b[0m\u001b[37m\u001b[0m \u001b[1m125s\u001b[0m 58ms/step - accuracy: 0.9471 - loss: 0.2834 - val_accuracy: 0.8906 - val_loss: 0.7521 - learning_rate: 1.0000e-05\n"
     ]
    }
   ],
   "source": [
    "transformer.compile(\n",
    "    optimizer=\"rmsprop\",\n",
    "    loss=\"sparse_categorical_crossentropy\",\n",
    "    metrics=[\"accuracy\"])\n",
    "\n",
    "EPOCHS = 50\n",
    "checkpoint_filepath = '/tmp/checkpoint.weights.h5'\n",
    "callbacks_list = [\n",
    "    keras.callbacks.ReduceLROnPlateau(\n",
    "        monitor='val_loss',\n",
    "        factor=0.1,\n",
    "        patience=3,\n",
    "    ),\n",
    "    keras.callbacks.EarlyStopping(\n",
    "        monitor='val_loss',\n",
    "        patience=6,\n",
    "    ),\n",
    "    keras.callbacks.ModelCheckpoint(\n",
    "        filepath=checkpoint_filepath,\n",
    "        save_weights_only=True,\n",
    "        monitor='val_loss',\n",
    "        mode='min',\n",
    "        save_best_only=True\n",
    "    ),\n",
    "]\n",
    "    \n",
    "transformer.fit(train_ds, \n",
    "                epochs=EPOCHS, \n",
    "                callbacks=callbacks_list,\n",
    "                validation_data=val_ds)\n",
    "\n",
    "transformer.load_weights(checkpoint_filepath)"
   ]
  },
  {
   "cell_type": "code",
   "execution_count": 16,
   "metadata": {},
   "outputs": [],
   "source": [
    "# # After training and loading the best weights:\n",
    "# transformer.load_weights(checkpoint_filepath)\n",
    "\n",
    "# # Save the entire model (architecture + weights + optimizer state)\n",
    "# transformer.save(\"transformer_model\")\n"
   ]
  },
  {
   "cell_type": "code",
   "execution_count": 31,
   "metadata": {
    "execution": {
     "iopub.execute_input": "2025-02-23T23:09:55.257024Z",
     "iopub.status.busy": "2025-02-23T23:09:55.256653Z",
     "iopub.status.idle": "2025-02-23T23:09:56.065252Z",
     "shell.execute_reply": "2025-02-23T23:09:56.064106Z",
     "shell.execute_reply.started": "2025-02-23T23:09:55.256991Z"
    }
   },
   "outputs": [],
   "source": [
    "# transformer.save(\"transformer_model.h5\")\n"
   ]
  },
  {
   "cell_type": "markdown",
   "metadata": {
    "papermill": {
     "duration": 3.368994,
     "end_time": "2024-03-24T03:23:42.607524",
     "exception": false,
     "start_time": "2024-03-24T03:23:39.23853",
     "status": "completed"
    },
    "tags": []
   },
   "source": [
    "# Testing the Transformer"
   ]
  },
  {
   "cell_type": "markdown",
   "metadata": {
    "papermill": {
     "duration": 3.342189,
     "end_time": "2024-03-24T03:23:49.305977",
     "exception": false,
     "start_time": "2024-03-24T03:23:45.963788",
     "status": "completed"
    },
    "tags": []
   },
   "source": [
    "Let's translate a few random test sentences with our newly-trained Transformer."
   ]
  },
  {
   "cell_type": "code",
   "execution_count": 33,
   "metadata": {
    "execution": {
     "iopub.execute_input": "2025-02-23T23:10:08.850842Z",
     "iopub.status.busy": "2025-02-23T23:10:08.850182Z",
     "iopub.status.idle": "2025-02-23T23:10:32.743593Z",
     "shell.execute_reply": "2025-02-23T23:10:32.742647Z",
     "shell.execute_reply.started": "2025-02-23T23:10:08.850806Z"
    },
    "papermill": {
     "duration": 27.32186,
     "end_time": "2024-03-24T03:24:19.895885",
     "exception": false,
     "start_time": "2024-03-24T03:23:52.574025",
     "status": "completed"
    },
    "tags": []
   },
   "outputs": [
    {
     "name": "stdout",
     "output_type": "stream",
     "text": [
      "Tom looked at the painting on the wall.\n",
      "[start] tom alionekana uchoraji kwenye ukuta [end]\n",
      "\n",
      "I have a black cat.\n",
      "[start] nina paka mweusi [end]\n",
      "\n",
      "How long have you been dating?\n",
      "[start] umekuwa [UNK] kwa muda gani [end]\n",
      "\n",
      "Tom isn't as fast as i am.\n",
      "[start] tom hana haraka kama mimi [end]\n",
      "\n",
      "Truly, you o muhammad saw are one of the messengers,.\n",
      "[start] hakika wewe ni mmoja wao mitume [end]\n",
      "\n",
      "The lights aren't on.\n",
      "[start] taa ziko juu [end]\n",
      "\n",
      "In this way we enter upon the path.\n",
      "[start] kwa njia hii [UNK] kwenye njia [end]\n",
      "\n",
      "All aboard!\n",
      "[start] ndani yote [end]\n",
      "\n",
      "Encourage your friend to get help.\n",
      "[start] kumtia rafiki yako kupata msaada [end]\n",
      "\n",
      "Maybe he was trying to tell them something by showing it.\n",
      "[start] labda alikuwa akijaribu kuwaambia kitu kwa [UNK] [end]\n",
      "\n",
      "Topic the end of the world?\n",
      "[start] mada mwisho wa ulimwengu [end]\n",
      "\n",
      "Woocs ...\n",
      "[start] [UNK] [end]\n",
      "\n",
      "The hunters got up before dawn.\n",
      "[start] [UNK] kabla ya alfajiri [end]\n",
      "\n",
      "Tom got stuck in traffic.\n",
      "[start] tom alikwama kwenye trafiki [end]\n",
      "\n",
      "I'll tell you why.\n",
      "[start] nitakuambia kwanini [end]\n",
      "\n",
      "I anticipated trouble.\n",
      "[start] nilitarajia shida [end]\n",
      "\n",
      "She left me simply because i had a small income.\n",
      "[start] aliondoka kwa sababu nilikuwa na mapato madogo [end]\n",
      "\n",
      "There is little hope that she will come on time.\n",
      "[start] kuna matumaini kidogo kwamba atakuja kwa wakati [end]\n",
      "\n",
      "How long are we supposed to keep this up?\n",
      "[start] tunapaswa kukaa muda gani hadi hii [end]\n",
      "\n",
      "Did the dishwasher work?\n",
      "[start] je mashine ya kuosha vyombo vya kuosha vyombo vya kuosha vyombo vya habari vya kuosha vyombo vya kuosha vya kuosha vyombo vya habari vya habari vya kuosha mikono kwa mikono\n",
      "\n",
      "We heard a loud explosion.\n",
      "[start] tulisikia sauti kubwa [end]\n",
      "\n",
      "That's the whole story.\n",
      "[start] hiyo ndiyo hadithi nzima [end]\n",
      "\n",
      "I have an ear infection.\n",
      "[start] nina sikio la maambukizi [end]\n",
      "\n",
      "I heard what happened.\n",
      "[start] nilisikia kilichotokea [end]\n",
      "\n",
      "...it is quite clear that dr wilbrod slaa's decision to run as a presidential candidate has tilted the balance of power.\n",
      "[start] ni wazi kabisa kuwa dk [UNK] [UNK] [UNK] [UNK] mgombea urais ana uwezo wa rais wa rais wa rais wa mamlaka [end]\n",
      "\n",
      "This book will be very useful to us.\n",
      "[start] kitabu hiki kitakuwa na manufaa sana kwetu [end]\n",
      "\n",
      "He was covered all over with white paint.\n",
      "[start] [UNK] yote [UNK] rangi nyeupe [end]\n",
      "\n",
      "I'll be at home in the morning.\n",
      "[start] nitakuwa nyumbani asubuhi [end]\n",
      "\n",
      "After the end of this creation age death and the grave will not exist.\n",
      "[start] baada ya mwisho wa uumbaji huu na kifo [UNK] kaburi [UNK] [end]\n",
      "\n",
      "He was left all alone in the woods.\n",
      "[start] aliachwa peke yake msituni [end]\n",
      "\n",
      "With the arrival of the industrial revolution, however, modern machinery was used to demolish what was left of the mountain in order to recover the precious ore that still remained.\n",
      "[start] pamoja na mapinduzi ya viwanda ya viwanda hata hivyo [UNK] ya kisasa [UNK] mlima wa kushoto kile ambacho kilikuwa [UNK] kwenye mlima wa [UNK] wa [UNK] kuwa [UNK] [end]\n",
      "\n",
      "There should be equal treatment for both men and women.\n",
      "[start] kuna matibabu sawa kwa wanaume na wanawake na wanaume [end]\n",
      "\n",
      "Since when do you have a problem with the death penalty?\n",
      "[start] kwa kuwa una shida na adhabu ya kifo [end]\n",
      "\n",
      "Now there is only the un peacekeeping forces stopping nkunda's rebels from taking goma.\n",
      "[start] sasa kuna vikosi pekee ya umoja wa mataifa [UNK] waasi [UNK] waasi [UNK] [end]\n",
      "\n",
      "He came to japan two years ago.\n",
      "[start] alikuja japan miaka miwili iliyopita [end]\n",
      "\n",
      "I like to study foreign languages.\n",
      "[start] ninapenda kusoma lugha za kigeni [end]\n",
      "\n",
      "High quality,top service. we devote to be your industrial manufactuding solutions!\n",
      "[start] huduma ya juu ya [UNK] kwa kutumia suluhisho za [UNK] yako ya [UNK] [end]\n",
      "\n",
      "I was struck by lightning.\n",
      "[start] [UNK] na radi [end]\n",
      "\n",
      "I still think we should have invited james to go with us.\n",
      "[start] bado nadhani tunapaswa kualikwa pamoja nasi [end]\n",
      "\n",
      "I started to learn english with the aim of becoming a teacher.\n",
      "[start] nilianza kujifunza kiingereza pamoja na mwalimu wa kuwa mwalimu [end]\n",
      "\n",
      "It seems like the cat caught the scent of a mouse.\n",
      "[start] inaonekana paka [UNK] na panya wa panya [end]\n",
      "\n",
      "Except with the saying, if allah will! and remember your lord when you forget and say it may be that my lord guides me unto a nearer way of truth than this.\n",
      "[start] isipo kuwa mwenyezi mungu ikiwa mola wenu mlezi alipo sema [UNK] na [UNK] [end]\n",
      "\n",
      "When i was a child, i was always drinking milk.\n",
      "[start] nilipokuwa mtoto nilikuwa nikinywa maziwa kila wakati [end]\n",
      "\n",
      "I was reading a book while walking.\n",
      "[start] nilikuwa nasoma kitabu huku akitembea [end]\n",
      "\n",
      "And one of the elders saith unto to me, weep not behold, the lion of the tribe of juda, the root of david, hath prevailed to open the book . . . and in the midst of elders, stood a lamb as it had been slain, having seven horns and seven eyes. . .\n",
      "[start] na mmoja wa wazee [UNK] [UNK] [UNK] [UNK] wa kabila la daudi kabila la daudi [UNK] na daudi [UNK] na [UNK] [end]\n",
      "\n",
      "Shenzhen city.\n",
      "[start] shenzhen jiji [end]\n",
      "\n",
      "And all of this is also true of god.\n",
      "[start] na haya yote pia ni kweli wa mungu [end]\n",
      "\n",
      "I never meant to put you in any danger.\n",
      "[start] sikuwahi kutaka kuweka hatari yoyote [end]\n",
      "\n",
      "Candidates are assessed on the basis of fifty points for subparagraph a and ten points for each of subparagraphs b to e.\n",
      "[start] wagombea [UNK] kwa msingi wa hamsini kwa pointi hamsini na [UNK] kwa kila moja ya [UNK] ya [UNK] [UNK] b e [end]\n",
      "\n",
      "Dgb.\n",
      "[start] [UNK] [end]\n",
      "\n"
     ]
    }
   ],
   "source": [
    "target_vocab = target_vectorization.get_vocabulary()\n",
    "target_index_lookup = dict(zip(range(len(target_vocab)), target_vocab))\n",
    "max_decoded_sentence_length = 30\n",
    "\n",
    "def decode_sequence(input_sentence):\n",
    "    tokenized_input_sentence = source_vectorization([input_sentence])\n",
    "    decoded_sentence = \"[start]\"\n",
    "    for i in range(max_decoded_sentence_length):\n",
    "        tokenized_target_sentence = target_vectorization(\n",
    "            [decoded_sentence])[:, :-1]\n",
    "        predictions = transformer(\n",
    "            [tokenized_input_sentence, tokenized_target_sentence])\n",
    "        sampled_token_index = np.argmax(predictions[0, i, :])\n",
    "        sampled_token = target_index_lookup[sampled_token_index]\n",
    "        decoded_sentence += \" \" + sampled_token\n",
    "        if sampled_token == \"[end]\":\n",
    "            break\n",
    "    return decoded_sentence\n",
    "\n",
    "# let's translate 50 random sentences\n",
    "for i in range(50):\n",
    "    random_index = np.random.randint(0, len(test_df))\n",
    "    input_sentence = test_df[\"source\"].iloc[random_index]\n",
    "    print(input_sentence)\n",
    "    print(decode_sequence(input_sentence))\n",
    "    print()"
   ]
  },
  {
   "cell_type": "markdown",
   "metadata": {},
   "source": [
    "**Its getting good prediction** against test data"
   ]
  },
  {
   "cell_type": "markdown",
   "metadata": {},
   "source": [
    "# Testing againt new data "
   ]
  },
  {
   "cell_type": "code",
   "execution_count": 34,
   "metadata": {
    "execution": {
     "iopub.execute_input": "2025-02-23T23:10:41.355744Z",
     "iopub.status.busy": "2025-02-23T23:10:41.355368Z",
     "iopub.status.idle": "2025-02-23T23:10:41.378772Z",
     "shell.execute_reply": "2025-02-23T23:10:41.378056Z",
     "shell.execute_reply.started": "2025-02-23T23:10:41.355710Z"
    }
   },
   "outputs": [
    {
     "data": {
      "text/html": [
       "<div>\n",
       "<style scoped>\n",
       "    .dataframe tbody tr th:only-of-type {\n",
       "        vertical-align: middle;\n",
       "    }\n",
       "\n",
       "    .dataframe tbody tr th {\n",
       "        vertical-align: top;\n",
       "    }\n",
       "\n",
       "    .dataframe thead th {\n",
       "        text-align: right;\n",
       "    }\n",
       "</style>\n",
       "<table border=\"1\" class=\"dataframe\">\n",
       "  <thead>\n",
       "    <tr style=\"text-align: right;\">\n",
       "      <th></th>\n",
       "      <th>English sentence</th>\n",
       "      <th>Swahili Translation</th>\n",
       "    </tr>\n",
       "  </thead>\n",
       "  <tbody>\n",
       "    <tr>\n",
       "      <th>0</th>\n",
       "      <td>In 1983, two separate research groups led by R...</td>\n",
       "      <td>Mnamo 1983, vikundi viwili tofauti vya watafit...</td>\n",
       "    </tr>\n",
       "    <tr>\n",
       "      <th>1</th>\n",
       "      <td>In the early days, the CDC did not have an off...</td>\n",
       "      <td>Katika siku za kwanza, kituo hicho hakikuwa na...</td>\n",
       "    </tr>\n",
       "    <tr>\n",
       "      <th>2</th>\n",
       "      <td>The chance of quitting is improved with social...</td>\n",
       "      <td>Uwezekano wa kukoma huendelezwa kwa usaidizi w...</td>\n",
       "    </tr>\n",
       "    <tr>\n",
       "      <th>3</th>\n",
       "      <td>Both strains of the tuberculosis bacteria shar...</td>\n",
       "      <td>Wote Matatizo ya bakteria kifua kikuu kushirik...</td>\n",
       "    </tr>\n",
       "    <tr>\n",
       "      <th>4</th>\n",
       "      <td>Products with 60% to 95% alcohol by volume are...</td>\n",
       "      <td>Michanganyiko huwa na asilimia 60-95 za alikoh...</td>\n",
       "    </tr>\n",
       "  </tbody>\n",
       "</table>\n",
       "</div>"
      ],
      "text/plain": [
       "                                    English sentence  \\\n",
       "0  In 1983, two separate research groups led by R...   \n",
       "1  In the early days, the CDC did not have an off...   \n",
       "2  The chance of quitting is improved with social...   \n",
       "3  Both strains of the tuberculosis bacteria shar...   \n",
       "4  Products with 60% to 95% alcohol by volume are...   \n",
       "\n",
       "                                 Swahili Translation  \n",
       "0  Mnamo 1983, vikundi viwili tofauti vya watafit...  \n",
       "1  Katika siku za kwanza, kituo hicho hakikuwa na...  \n",
       "2  Uwezekano wa kukoma huendelezwa kwa usaidizi w...  \n",
       "3  Wote Matatizo ya bakteria kifua kikuu kushirik...  \n",
       "4  Michanganyiko huwa na asilimia 60-95 za alikoh...  "
      ]
     },
     "execution_count": 34,
     "metadata": {},
     "output_type": "execute_result"
    }
   ],
   "source": [
    "import pandas as pd\n",
    "\n",
    "# Load the cleaned test data\n",
    "test_df = pd.read_csv(\"/kaggle/input/test-en-to-swa-cleaned/test_en_to_swa_cleaned.csv\")\n",
    "\n",
    "# Inspect the first few rows to ensure the columns are correctly named\n",
    "test_df.head()\n"
   ]
  },
  {
   "cell_type": "code",
   "execution_count": 35,
   "metadata": {
    "execution": {
     "iopub.execute_input": "2025-02-23T23:10:45.440600Z",
     "iopub.status.busy": "2025-02-23T23:10:45.439891Z",
     "iopub.status.idle": "2025-02-23T23:21:13.470208Z",
     "shell.execute_reply": "2025-02-23T23:21:13.469483Z",
     "shell.execute_reply.started": "2025-02-23T23:10:45.440566Z"
    }
   },
   "outputs": [
    {
     "name": "stderr",
     "output_type": "stream",
     "text": [
      "/opt/conda/lib/python3.10/site-packages/keras/src/layers/layer.py:877: UserWarning: Layer 'multi_head_attention' (of type MultiHeadAttention) was passed an input with a mask attached to it. However, this layer does not support masking and will therefore destroy the mask information. Downstream layers will not see the mask.\n",
      "  warnings.warn(\n",
      "/opt/conda/lib/python3.10/site-packages/keras/src/layers/layer.py:877: UserWarning: Layer 'transformer_encoder' (of type TransformerEncoder) was passed an input with a mask attached to it. However, this layer does not support masking and will therefore destroy the mask information. Downstream layers will not see the mask.\n",
      "  warnings.warn(\n",
      "/opt/conda/lib/python3.10/site-packages/keras/src/layers/layer.py:877: UserWarning: Layer 'multi_head_attention_1' (of type MultiHeadAttention) was passed an input with a mask attached to it. However, this layer does not support masking and will therefore destroy the mask information. Downstream layers will not see the mask.\n",
      "  warnings.warn(\n",
      "/opt/conda/lib/python3.10/site-packages/keras/src/layers/layer.py:877: UserWarning: Layer 'transformer_decoder' (of type TransformerDecoder) was passed an input with a mask attached to it. However, this layer does not support masking and will therefore destroy the mask information. Downstream layers will not see the mask.\n",
      "  warnings.warn(\n"
     ]
    },
    {
     "name": "stdout",
     "output_type": "stream",
     "text": [
      "Input: In 1983, two separate research groups led by Robert Gallo and Luc Montagnier declared that a novel retrovirus may have been infecting people with AIDS, and published their findings in the same issue of the journal Science. \n",
      "Prediction: katika [UNK] vikundi viwili tofauti na vikundi vya robert [UNK] na [UNK] [UNK] [UNK] [UNK] [UNK] kwamba riwaya ya [UNK] [UNK] [UNK] na [UNK] na [UNK] kwa sababu ya [UNK]\n",
      "Target: Mnamo 1983, vikundi viwili tofauti vya watafiti vilivyoongozwa na Robert Gallo na Luc Montagnier bila kutegemeana vilitangaza kuwa retrovirusi mpya ilikuwa ikiwaambukiza wagonjwa wa UKIMWI, hivyo wakachapisha matokeo yao katika jarida la Science. \n",
      "\n",
      "Input: In the early days, the CDC did not have an official name for the disease, often referring to it by way of the diseases that were associated with it, for example, lymphadenopathy, the disease after which the discoverers of HIV originally named the virus. \n",
      "Prediction: katika siku za mapema cdc [UNK] jina rasmi [UNK] kwa ugonjwa huo kwa njia ya ugonjwa huo kwa magonjwa ambayo [UNK] na magonjwa ambayo [UNK] na [UNK]\n",
      "Target: Katika siku za kwanza, kituo hicho hakikuwa na jina rasmi la ugonjwa huu, mara nyingi wakitumia majina ya magonjwa mengine yaliyohusishwa nao, kwa mfano, limfadenopathi, jina ambalo baadaye wavumbuzi wa VVU waliviita virusi hivi. \n",
      "\n",
      "Input: The chance of quitting is improved with social support, engagement in a smoking cessation program, and the use of medications such as nicotine replacement therapy, bupropion, or varenicline. \n",
      "Prediction: nafasi ya kuacha [UNK] na msaada wa kijamii kwa usaidizi katika mpango wa kuvuta sigara na dawa za kulevya na dawa za kulevya [UNK] wa [UNK] au uingizwaji wa [UNK]\n",
      "Target: Uwezekano wa kukoma huendelezwa kwa usaidizi wa kijamii, kuhusika katika mpango wa kukomesha uvutaji na kutumia tiba kama vile tiba ya kubadili nikotini, bupropion au varenicline. \n",
      "\n",
      "Input: Both strains of the tuberculosis bacteria share a common ancestor, which could have infected humans even before the Neolithic Revolution. \n",
      "Prediction: aina zote za kifua kikuu kikuu cha kawaida [UNK] ambayo [UNK] [UNK] [UNK] ni kwamba wanadamu [UNK] kabla hata mapinduzi\n",
      "Target: Wote Matatizo ya bakteria kifua kikuu kushiriki babu ya kawaida, ambayo ingeweza kuambukizwa binadamu kama mapema kama Mapinduzi Neolithic. \n",
      "\n",
      "Input: Products with 60% to 95% alcohol by volume are effective antiseptics. \n",
      "Prediction: bidhaa kwa [UNK] na [UNK] ya pombe kwa ufanisi\n",
      "Target: Michanganyiko huwa na asilimia 60-95 za alikoholi. \n",
      "\n"
     ]
    }
   ],
   "source": [
    "# Lists to hold the ground truth and model predictions\n",
    "references = []\n",
    "hypotheses = []\n",
    "\n",
    "# Loop over all test examples (or a sample of them)\n",
    "for index, row in test_df.iterrows():\n",
    "    # Assuming the CSV columns are named \"English sentence\" and \"Swahili Translation\"\n",
    "    input_sentence = row[\"English sentence\"]\n",
    "    true_translation = row[\"Swahili Translation\"]\n",
    "    \n",
    "    # Decode the translation using your model\n",
    "    predicted_sentence = decode_sequence(input_sentence)\n",
    "    \n",
    "    # Remove the special tokens \"[start]\" and \"[end]\" from the predicted sentence\n",
    "    predicted_sentence = predicted_sentence.replace(\"[start]\", \"\").replace(\"[end]\", \"\").strip()\n",
    "    true_translation_clean = true_translation.strip().lower()\n",
    "    \n",
    "    # Tokenize the sentences (here a simple split is used; feel free to use a more robust tokenizer)\n",
    "    predicted_tokens = predicted_sentence.split()\n",
    "    true_tokens = true_translation_clean.split()\n",
    "    \n",
    "    # Append to lists (note that BLEU expects a list of reference lists)\n",
    "    references.append([true_tokens])\n",
    "    hypotheses.append(predicted_tokens)\n",
    "    \n",
    "    # Optional: print a few examples\n",
    "    if index < 5:\n",
    "        print(\"Input:\", input_sentence)\n",
    "        print(\"Prediction:\", predicted_sentence)\n",
    "        print(\"Target:\", true_translation)\n",
    "        print()\n"
   ]
  },
  {
   "cell_type": "code",
   "execution_count": 36,
   "metadata": {
    "execution": {
     "iopub.execute_input": "2025-02-23T23:21:13.471771Z",
     "iopub.status.busy": "2025-02-23T23:21:13.471497Z",
     "iopub.status.idle": "2025-02-23T23:21:14.707901Z",
     "shell.execute_reply": "2025-02-23T23:21:14.707083Z",
     "shell.execute_reply.started": "2025-02-23T23:21:13.471744Z"
    }
   },
   "outputs": [
    {
     "name": "stdout",
     "output_type": "stream",
     "text": [
      "Corpus BLEU Score: 0.05912423603224894\n"
     ]
    }
   ],
   "source": [
    "from nltk.translate.bleu_score import corpus_bleu\n",
    "\n",
    "# Compute corpus-level BLEU score\n",
    "bleu_score = corpus_bleu(references, hypotheses)\n",
    "print(\"Corpus BLEU Score:\", bleu_score)\n"
   ]
  },
  {
   "cell_type": "code",
   "execution_count": null,
   "metadata": {},
   "outputs": [],
   "source": []
  },
  {
   "cell_type": "code",
   "execution_count": null,
   "metadata": {},
   "outputs": [],
   "source": []
  },
  {
   "cell_type": "code",
   "execution_count": null,
   "metadata": {},
   "outputs": [],
   "source": []
  },
  {
   "cell_type": "code",
   "execution_count": null,
   "metadata": {},
   "outputs": [],
   "source": []
  },
  {
   "cell_type": "code",
   "execution_count": null,
   "metadata": {},
   "outputs": [],
   "source": []
  },
  {
   "cell_type": "code",
   "execution_count": null,
   "metadata": {},
   "outputs": [],
   "source": []
  },
  {
   "cell_type": "markdown",
   "metadata": {
    "papermill": {
     "duration": 3.291308,
     "end_time": "2024-03-24T03:24:26.461946",
     "exception": false,
     "start_time": "2024-03-24T03:24:23.170638",
     "status": "completed"
    },
    "tags": []
   },
   "source": [
    "# Credits and stuff\n",
    "\n",
    "- https://arxiv.org/abs/1706.03762\n",
    "\n",
    "- https://www.tensorflow.org/text/tutorials/transformer\n",
    "\n",
    "- https://github.com/openai/gpt-2/blob/master/src/model.py\n",
    "\n",
    "- https://github.com/karpathy/minGPT/blob/master/mingpt/model.py\n",
    "\n",
    "- https://livebook.manning.com/book/deep-learning-with-python-second-edition/chapter-11\n",
    "\n",
    "    - https://github.com/fchollet/deep-learning-with-python-notebooks/blob/master/chapter11_part03_transformer.ipynb\n",
    "\n",
    "    - https://github.com/fchollet/deep-learning-with-python-notebooks/blob/master/chapter11_part04_sequence-to-sequence-learning.ipynb\n",
    "\n",
    "- https://www.oreilly.com/library/view/natural-language-processing/9781098136789/ch03.html\n",
    "\n",
    "    - https://github.com/nlp-with-transformers/notebooks/blob/main/03_transformer-anatomy.ipynb"
   ]
  },
  {
   "cell_type": "code",
   "execution_count": null,
   "metadata": {},
   "outputs": [],
   "source": []
  }
 ],
 "metadata": {
  "kaggle": {
   "accelerator": "gpu",
   "dataSources": [
    {
     "datasetId": 592212,
     "sourceId": 1067156,
     "sourceType": "datasetVersion"
    },
    {
     "datasetId": 6716358,
     "sourceId": 10817575,
     "sourceType": "datasetVersion"
    },
    {
     "datasetId": 6728192,
     "sourceId": 10834581,
     "sourceType": "datasetVersion"
    },
    {
     "sourceId": 223923029,
     "sourceType": "kernelVersion"
    }
   ],
   "dockerImageVersionId": 30805,
   "isGpuEnabled": true,
   "isInternetEnabled": true,
   "language": "python",
   "sourceType": "notebook"
  },
  "kernelspec": {
   "display_name": "Python 3 (ipykernel)",
   "language": "python",
   "name": "python3"
  },
  "language_info": {
   "codemirror_mode": {
    "name": "ipython",
    "version": 3
   },
   "file_extension": ".py",
   "mimetype": "text/x-python",
   "name": "python",
   "nbconvert_exporter": "python",
   "pygments_lexer": "ipython3",
   "version": "3.12.4"
  },
  "papermill": {
   "default_parameters": {},
   "duration": 2516.737775,
   "end_time": "2024-03-24T03:24:33.118324",
   "environment_variables": {},
   "exception": null,
   "input_path": "__notebook__.ipynb",
   "output_path": "__notebook__.ipynb",
   "parameters": {},
   "start_time": "2024-03-24T02:42:36.380549",
   "version": "2.5.0"
  }
 },
 "nbformat": 4,
 "nbformat_minor": 4
}
